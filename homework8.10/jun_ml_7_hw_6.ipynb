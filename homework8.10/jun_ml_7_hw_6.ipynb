{
  "nbformat": 4,
  "nbformat_minor": 0,
  "metadata": {
    "colab": {
      "provenance": [],
      "toc_visible": true
    },
    "kernelspec": {
      "display_name": "Python 3",
      "language": "python",
      "name": "python3"
    },
    "language_info": {
      "codemirror_mode": {
        "name": "ipython",
        "version": 3
      },
      "file_extension": ".py",
      "mimetype": "text/x-python",
      "name": "python",
      "nbconvert_exporter": "python",
      "pygments_lexer": "ipython3",
      "version": "3.6.3"
    }
  },
  "cells": [
    {
      "cell_type": "markdown",
      "metadata": {
        "id": "B3KaF1cvPTEr"
      },
      "source": [
        "## Урок 10. Домашнее задание \n",
        "\n",
        "### 10.1 Домашнее задание начального уровня\n",
        "\n",
        "Обучите *k-means* для количества кластеров $k=4$ на датасете `data/clustering.pkl`. Как изменилась метрика силуэтта? Стало лучше или хуже? Какое количество кластеров лучше, два или четыре?"
      ]
    },
    {
      "cell_type": "code",
      "source": [
        "import pandas as pd\n",
        "import numpy as np\n",
        "import pickle\n",
        "\n",
        "import matplotlib.pyplot as plt\n",
        "\n",
        "from sklearn.cluster import KMeans\n",
        "from sklearn.metrics import silhouette_score\n",
        "from sklearn.metrics import adjusted_mutual_info_score"
      ],
      "metadata": {
        "id": "fBeOaDUFBTkv"
      },
      "execution_count": 1,
      "outputs": []
    },
    {
      "cell_type": "code",
      "metadata": {
        "id": "4EerOYSgPTEu"
      },
      "source": [
        "with open('clustering.pkl', 'rb') as f:\n",
        "    data = pickle.load(f)\n",
        "\n",
        "X = data['X']\n",
        "Y = data['Y']"
      ],
      "execution_count": 2,
      "outputs": []
    },
    {
      "cell_type": "code",
      "source": [
        "# Модель из урока\n",
        "model = KMeans(n_clusters=3, random_state=42, n_init=10).fit(X)\n",
        "\n",
        "score = silhouette_score(X, model.labels_)\n",
        "print(f\"Метрика силуэтта для k=3: {score}\")"
      ],
      "metadata": {
        "colab": {
          "base_uri": "https://localhost:8080/"
        },
        "id": "oOXD4ChcExAH",
        "outputId": "3c2899a4-1aee-43bc-9f2c-c4cf9c4cdd23"
      },
      "execution_count": 3,
      "outputs": [
        {
          "output_type": "stream",
          "name": "stdout",
          "text": [
            "Метрика силуэтта для k=3: 0.4523966375832621\n"
          ]
        }
      ]
    },
    {
      "cell_type": "code",
      "source": [
        "model = KMeans(n_clusters=4, random_state=42, n_init=10).fit(X)\n",
        "\n",
        "score = silhouette_score(X, model.labels_)\n",
        "print(f\"Метрика силуэтта для k=4: {score}\")"
      ],
      "metadata": {
        "colab": {
          "base_uri": "https://localhost:8080/"
        },
        "id": "IohMc90cBdws",
        "outputId": "32b509e1-ca17-4d1e-f7f4-7787032a74d1"
      },
      "execution_count": 4,
      "outputs": [
        {
          "output_type": "stream",
          "name": "stdout",
          "text": [
            "Метрика силуэтта для k=4: 0.4433754926522356\n"
          ]
        }
      ]
    },
    {
      "cell_type": "markdown",
      "source": [
        "*Метрика силуэта ухудшилась*"
      ],
      "metadata": {
        "id": "0ne2KMIiFjEc"
      }
    },
    {
      "cell_type": "markdown",
      "metadata": {
        "id": "iUCVoJeaPTEz"
      },
      "source": [
        "\n",
        "### 10.2 Домашнее задание начального уровня\n",
        "\n",
        "Обучите *k-means* для количества кластеров $k=4$ на датасете `data/clustering.pkl`. Как изменилась метрика *AMI*? Стало лучше или хуже? Какое количество кластеров лучше по метрике AMI?"
      ]
    },
    {
      "cell_type": "code",
      "source": [
        "model = KMeans(n_clusters=3, random_state=42, n_init=10).fit(X)\n",
        "y_pred = model.fit_predict(X)\n",
        "\n",
        "score = adjusted_mutual_info_score(Y, y_pred)\n",
        "print(f\"AMI для k=3: {score}\")"
      ],
      "metadata": {
        "outputId": "d4b0a528-35bd-4cda-c38d-1c5fece67cce",
        "colab": {
          "base_uri": "https://localhost:8080/"
        },
        "id": "MQ6Ls5pJFrS8"
      },
      "execution_count": 5,
      "outputs": [
        {
          "output_type": "stream",
          "name": "stdout",
          "text": [
            "AMI для k=3: 0.6138984071108893\n"
          ]
        }
      ]
    },
    {
      "cell_type": "code",
      "source": [
        "model = KMeans(n_clusters=4, random_state=42, n_init=10).fit(X)\n",
        "y_pred = model.fit_predict(X)\n",
        "\n",
        "score = adjusted_mutual_info_score(Y, y_pred)\n",
        "print(f\"AMI для k=4: {score}\")"
      ],
      "metadata": {
        "outputId": "a57abfcd-c940-4f34-8d29-960a99834fe0",
        "colab": {
          "base_uri": "https://localhost:8080/"
        },
        "id": "0MYB3sMOFrS9"
      },
      "execution_count": 6,
      "outputs": [
        {
          "output_type": "stream",
          "name": "stdout",
          "text": [
            "AMI для k=4: 0.5835423055834893\n"
          ]
        }
      ]
    },
    {
      "cell_type": "markdown",
      "source": [
        "*Метрика AMI ухудшилась*"
      ],
      "metadata": {
        "id": "kQsOEOYhh3aY"
      }
    },
    {
      "cell_type": "code",
      "source": [
        "decresing = False\n",
        "decresing_n = 0\n",
        "prev = None\n",
        "\n",
        "best_k = None\n",
        "best_ami = None\n",
        "\n",
        "for k in range(2, 100):\n",
        "  model = KMeans(n_clusters=k, random_state=42, n_init=10).fit(X)\n",
        "  y_pred = model.fit_predict(X)\n",
        "\n",
        "  score = adjusted_mutual_info_score(Y, y_pred)\n",
        "  print(f\"k={k}; AMI = {score:.4f}\")\n",
        "\n",
        "  if best_ami is None:\n",
        "    best_ami = score\n",
        "    best_k = k\n",
        "  else:\n",
        "    if best_ami < score:\n",
        "      best_ami = score\n",
        "      best_k = k\n",
        "\n",
        "  if prev is None:\n",
        "    prev = score\n",
        "  else:\n",
        "    if score < prev:\n",
        "      decresing = True\n",
        "\n",
        "  if decresing:\n",
        "    decresing_n += 1\n",
        "\n",
        "  if decresing_n > 10:\n",
        "    break\n",
        "\n",
        "print(f'Лучшая метрика AMI={best_ami} при k={best_k}')"
      ],
      "metadata": {
        "colab": {
          "base_uri": "https://localhost:8080/"
        },
        "id": "yHCkWzM0K4s8",
        "outputId": "502b5029-d8a8-47ad-e9dc-bf4f03f8f908"
      },
      "execution_count": 7,
      "outputs": [
        {
          "output_type": "stream",
          "name": "stdout",
          "text": [
            "k=2; AMI = 0.9286\n",
            "k=3; AMI = 0.6139\n",
            "k=4; AMI = 0.5835\n",
            "k=5; AMI = 0.5359\n",
            "k=6; AMI = 0.4917\n",
            "k=7; AMI = 0.4824\n",
            "k=8; AMI = 0.4524\n",
            "k=9; AMI = 0.4363\n",
            "k=10; AMI = 0.4103\n",
            "k=11; AMI = 0.3974\n",
            "k=12; AMI = 0.3820\n",
            "k=13; AMI = 0.3840\n",
            "Лучшая метрика AMI=0.9286022516535728 при k=2\n"
          ]
        }
      ]
    },
    {
      "cell_type": "markdown",
      "metadata": {
        "id": "fY8FY1FcPTE4"
      },
      "source": [
        "\n",
        "### 10.3 Домашнее задание высокого уровня\n",
        "\n",
        "Загрузите датасет `clustering_hw.csv` из приложенной директории `data` и визуализируйте данные. Должно получится как-то так:\n",
        "\n",
        "![clustering_hw](https://248006.selcdn.ru/public/DS.%20Block%202.%20M7/clustering_hw.png)\n",
        "\n",
        "В рамках домашней работы\n",
        "\n",
        "1. вычислите оптимальное количество кластеров $k$\n",
        "1. обучите k-means с количеством кластеров  $k$\n",
        "1. к какому кластеру принадлежит точка $x=(5, 8)$? к какому кластеру принадлежит точка $x=(0, 5)$? Они принадлежат к разным кластерам или одному?\n",
        "1. Каково качество кластеризации по AMI"
      ]
    },
    {
      "cell_type": "code",
      "metadata": {
        "id": "4XJifI-CPTE5"
      },
      "source": [
        "df = pd.read_csv('clustering_hw.csv')\n",
        "df.head()\n",
        "X = df[['x1', 'x2']]\n",
        "Y = df[['y']]"
      ],
      "execution_count": 8,
      "outputs": []
    },
    {
      "cell_type": "code",
      "source": [
        "plt.scatter(df['x1'], df['x2'], c=df['y'])\n",
        "plt.xlabel('x1')\n",
        "plt.ylabel('x2')\n",
        "plt.show()"
      ],
      "metadata": {
        "colab": {
          "base_uri": "https://localhost:8080/",
          "height": 449
        },
        "id": "CCCFMhjmOpFr",
        "outputId": "7168fbe4-b537-4cd9-dffd-4fcbf499d235"
      },
      "execution_count": 9,
      "outputs": [
        {
          "output_type": "display_data",
          "data": {
            "text/plain": [
              "<Figure size 640x480 with 1 Axes>"
            ],
            "image/png": "[encoded data removed]"
          },
          "metadata": {}
        }
      ]
    },
    {
      "cell_type": "code",
      "source": [
        "decresing = False\n",
        "decresing_n = 0\n",
        "prev = None\n",
        "\n",
        "best_k = None\n",
        "best_silhouette = None\n",
        "\n",
        "for k in range(2, 10):\n",
        "  kmeans = KMeans(n_clusters=k, random_state=42, n_init=10).fit(X)\n",
        "  kmeans.fit(X)\n",
        "  score = silhouette_score(X, kmeans.labels_)\n",
        "  \n",
        "  if best_silhouette is None:\n",
        "    best_silhouette = score\n",
        "    best_k = k\n",
        "  else:\n",
        "    if best_silhouette < score:\n",
        "      best_silhouette = score\n",
        "      best_k = k\n",
        "\n",
        "  if prev is None:\n",
        "    prev = score\n",
        "  else:\n",
        "    if score < prev:\n",
        "      decresing = True\n",
        "\n",
        "  if decresing:\n",
        "    decresing_n += 1\n",
        "\n",
        "  if decresing_n > 10:\n",
        "    break\n",
        "\n",
        "print(f'Оптимальное количество кластеров: k={best_k} (silhouette_score={best_silhouette})')"
      ],
      "metadata": {
        "colab": {
          "base_uri": "https://localhost:8080/"
        },
        "id": "Elv09XkYQLqm",
        "outputId": "06051bc2-7de5-4881-f015-9e632e94e1a7"
      },
      "execution_count": 10,
      "outputs": [
        {
          "output_type": "stream",
          "name": "stdout",
          "text": [
            "Оптимальное количество кластеров: k=3 (silhouette_score=0.6512697926145397)\n"
          ]
        }
      ]
    },
    {
      "cell_type": "code",
      "source": [
        "kmeans = KMeans(n_clusters=best_k, random_state=42, n_init=10).fit(X)\n",
        "kmeans.fit(X);"
      ],
      "metadata": {
        "id": "KlIH4HNGeWV-"
      },
      "execution_count": 11,
      "outputs": []
    },
    {
      "cell_type": "code",
      "source": [
        "points = pd.DataFrame({'x1': [5, 0], 'x2': [8, 5]})\n",
        "points['cluster'] = kmeans.predict(points)\n",
        "print('Точки принадлежат к разным кластерам ? {}'.format(\n",
        "    points.loc[0, 'cluster'] != points.loc[1, 'cluster'])\n",
        ")\n",
        "points"
      ],
      "metadata": {
        "colab": {
          "base_uri": "https://localhost:8080/",
          "height": 129
        },
        "id": "iIHehasKasD1",
        "outputId": "973d45fa-8571-4948-903a-f853427c265f"
      },
      "execution_count": 12,
      "outputs": [
        {
          "output_type": "stream",
          "name": "stdout",
          "text": [
            "Точки принадлежат к разным кластерам ? True\n"
          ]
        },
        {
          "output_type": "execute_result",
          "data": {
            "text/plain": [
              "   x1  x2  cluster\n",
              "0   5   8        1\n",
              "1   0   5        0"
            ],
            "text/html": [
              "\n",
              "  <div id=\"df-1d373829-5b77-46bf-9c6b-9c8776edda1f\">\n",
              "    <div class=\"colab-df-container\">\n",
              "      <div>\n",
              "<style scoped>\n",
              "    .dataframe tbody tr th:only-of-type {\n",
              "        vertical-align: middle;\n",
              "    }\n",
              "\n",
              "    .dataframe tbody tr th {\n",
              "        vertical-align: top;\n",
              "    }\n",
              "\n",
              "    .dataframe thead th {\n",
              "        text-align: right;\n",
              "    }\n",
              "</style>\n",
              "<table border=\"1\" class=\"dataframe\">\n",
              "  <thead>\n",
              "    <tr style=\"text-align: right;\">\n",
              "      <th></th>\n",
              "      <th>x1</th>\n",
              "      <th>x2</th>\n",
              "      <th>cluster</th>\n",
              "    </tr>\n",
              "  </thead>\n",
              "  <tbody>\n",
              "    <tr>\n",
              "      <th>0</th>\n",
              "      <td>5</td>\n",
              "      <td>8</td>\n",
              "      <td>1</td>\n",
              "    </tr>\n",
              "    <tr>\n",
              "      <th>1</th>\n",
              "      <td>0</td>\n",
              "      <td>5</td>\n",
              "      <td>0</td>\n",
              "    </tr>\n",
              "  </tbody>\n",
              "</table>\n",
              "</div>\n",
              "      <button class=\"colab-df-convert\" onclick=\"convertToInteractive('df-1d373829-5b77-46bf-9c6b-9c8776edda1f')\"\n",
              "              title=\"Convert this dataframe to an interactive table.\"\n",
              "              style=\"display:none;\">\n",
              "        \n",
              "  <svg xmlns=\"http://www.w3.org/2000/svg\" height=\"24px\"viewBox=\"0 0 24 24\"\n",
              "       width=\"24px\">\n",
              "    <path d=\"M0 0h24v24H0V0z\" fill=\"none\"/>\n",
              "    <path d=\"M18.56 5.44l.94 2.06.94-2.06 2.06-.94-2.06-.94-.94-2.06-.94 2.06-2.06.94zm-11 1L8.5 8.5l.94-2.06 2.06-.94-2.06-.94L8.5 2.5l-.94 2.06-2.06.94zm10 10l.94 2.06.94-2.06 2.06-.94-2.06-.94-.94-2.06-.94 2.06-2.06.94z\"/><path d=\"M17.41 7.96l-1.37-1.37c-.4-.4-.92-.59-1.43-.59-.52 0-1.04.2-1.43.59L10.3 9.45l-7.72 7.72c-.78.78-.78 2.05 0 2.83L4 21.41c.39.39.9.59 1.41.59.51 0 1.02-.2 1.41-.59l7.78-7.78 2.81-2.81c.8-.78.8-2.07 0-2.86zM5.41 20L4 18.59l7.72-7.72 1.47 1.35L5.41 20z\"/>\n",
              "  </svg>\n",
              "      </button>\n",
              "      \n",
              "  <style>\n",
              "    .colab-df-container {\n",
              "      display:flex;\n",
              "      flex-wrap:wrap;\n",
              "      gap: 12px;\n",
              "    }\n",
              "\n",
              "    .colab-df-convert {\n",
              "      background-color: #E8F0FE;\n",
              "      border: none;\n",
              "      border-radius: 50%;\n",
              "      cursor: pointer;\n",
              "      display: none;\n",
              "      fill: #1967D2;\n",
              "      height: 32px;\n",
              "      padding: 0 0 0 0;\n",
              "      width: 32px;\n",
              "    }\n",
              "\n",
              "    .colab-df-convert:hover {\n",
              "      background-color: #E2EBFA;\n",
              "      box-shadow: 0px 1px 2px rgba(60, 64, 67, 0.3), 0px 1px 3px 1px rgba(60, 64, 67, 0.15);\n",
              "      fill: #174EA6;\n",
              "    }\n",
              "\n",
              "    [theme=dark] .colab-df-convert {\n",
              "      background-color: #3B4455;\n",
              "      fill: #D2E3FC;\n",
              "    }\n",
              "\n",
              "    [theme=dark] .colab-df-convert:hover {\n",
              "      background-color: #434B5C;\n",
              "      box-shadow: 0px 1px 3px 1px rgba(0, 0, 0, 0.15);\n",
              "      filter: drop-shadow(0px 1px 2px rgba(0, 0, 0, 0.3));\n",
              "      fill: #FFFFFF;\n",
              "    }\n",
              "  </style>\n",
              "\n",
              "      <script>\n",
              "        const buttonEl =\n",
              "          document.querySelector('#df-1d373829-5b77-46bf-9c6b-9c8776edda1f button.colab-df-convert');\n",
              "        buttonEl.style.display =\n",
              "          google.colab.kernel.accessAllowed ? 'block' : 'none';\n",
              "\n",
              "        async function convertToInteractive(key) {\n",
              "          const element = document.querySelector('#df-1d373829-5b77-46bf-9c6b-9c8776edda1f');\n",
              "          const dataTable =\n",
              "            await google.colab.kernel.invokeFunction('convertToInteractive',\n",
              "                                                     [key], {});\n",
              "          if (!dataTable) return;\n",
              "\n",
              "          const docLinkHtml = 'Like what you see? Visit the ' +\n",
              "            '<a target=\"_blank\" href=https://colab.research.google.com/notebooks/data_table.ipynb>data table notebook</a>'\n",
              "            + ' to learn more about interactive tables.';\n",
              "          element.innerHTML = '';\n",
              "          dataTable['output_type'] = 'display_data';\n",
              "          await google.colab.output.renderOutput(dataTable, element);\n",
              "          const docLink = document.createElement('div');\n",
              "          docLink.innerHTML = docLinkHtml;\n",
              "          element.appendChild(docLink);\n",
              "        }\n",
              "      </script>\n",
              "    </div>\n",
              "  </div>\n",
              "  "
            ]
          },
          "metadata": {},
          "execution_count": 12
        }
      ]
    },
    {
      "cell_type": "code",
      "source": [
        "AMI = adjusted_mutual_info_score(Y['y'], kmeans.labels_)\n",
        "print(\"AMI:\", AMI)"
      ],
      "metadata": {
        "colab": {
          "base_uri": "https://localhost:8080/"
        },
        "id": "--rZQO6Tg1iU",
        "outputId": "5e11f473-5408-4ac1-c9eb-8e875e61c773"
      },
      "execution_count": 13,
      "outputs": [
        {
          "output_type": "stream",
          "name": "stdout",
          "text": [
            "AMI: 0.9700074953683859\n"
          ]
        }
      ]
    },
    {
      "cell_type": "markdown",
      "metadata": {
        "id": "28VnuIijPTE8"
      },
      "source": [
        "### Заключение\n",
        "\n",
        "Мы познакомились с двумя метриками\n",
        "\n",
        "* Silhouette. Её используем, когда есть только сами объекты, а метки кластеров отсутствуют в обучающей выборке\n",
        "* AMI. Её используем, когда известны \"истинные\" метки кластеров\n",
        "\n",
        "Метрик намного больше - о них можно почитать [ в документации sklearn](https://scikit-learn.org/stable/modules/classes.html#clustering-metrics)"
      ]
    }
  ]
}