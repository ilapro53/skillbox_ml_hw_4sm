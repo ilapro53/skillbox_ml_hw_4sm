{
  "nbformat": 4,
  "nbformat_minor": 0,
  "metadata": {
    "colab": {
      "provenance": []
    },
    "kernelspec": {
      "display_name": "Python 3",
      "language": "python",
      "name": "python3"
    },
    "language_info": {
      "codemirror_mode": {
        "name": "ipython",
        "version": 3
      },
      "file_extension": ".py",
      "mimetype": "text/x-python",
      "name": "python",
      "nbconvert_exporter": "python",
      "pygments_lexer": "ipython3",
      "version": "3.6.3"
    }
  },
  "cells": [
    {
      "cell_type": "markdown",
      "metadata": {
        "id": "-smrZewE1tU2"
      },
      "source": [
        "# Урок 6. Многоклассовая классификация.\n",
        "\n",
        "Посмотрим на примере алгоритма логистической регрессии и метода опорных векторов, как работать с различными методами многоклассовой классификации."
      ]
    },
    {
      "cell_type": "markdown",
      "metadata": {
        "id": "S5kQdZzo1tU3"
      },
      "source": [
        "### 1.\n",
        "Вспомните датасет Wine. Загрузите его, разделите на тренировочную и тестовую выборки (random_state=17), используя только [9, 11, 12] признаки."
      ]
    },
    {
      "cell_type": "code",
      "metadata": {
        "id": "paB2E5141tU4"
      },
      "source": [
        "from sklearn.datasets import load_wine\n",
        "from sklearn.model_selection import train_test_split\n",
        "import pandas as pd"
      ],
      "execution_count": 44,
      "outputs": []
    },
    {
      "cell_type": "code",
      "metadata": {
        "id": "LdwwBPqq1tU7"
      },
      "source": [
        "wine_dataset = load_wine()\n",
        "wine_dataframe = pd.DataFrame(wine_dataset['data'], columns=wine_dataset.feature_names)"
      ],
      "execution_count": 45,
      "outputs": []
    },
    {
      "cell_type": "code",
      "source": [
        "wine_dataframe.columns"
      ],
      "metadata": {
        "id": "AA_XMFwGkjGM",
        "outputId": "cb44d0d9-af36-4452-d038-f3290d3fca7a",
        "colab": {
          "base_uri": "https://localhost:8080/"
        }
      },
      "execution_count": 46,
      "outputs": [
        {
          "output_type": "execute_result",
          "data": {
            "text/plain": [
              "Index(['alcohol', 'malic_acid', 'ash', 'alcalinity_of_ash', 'magnesium',\n",
              "       'total_phenols', 'flavanoids', 'nonflavanoid_phenols',\n",
              "       'proanthocyanins', 'color_intensity', 'hue',\n",
              "       'od280/od315_of_diluted_wines', 'proline'],\n",
              "      dtype='object')"
            ]
          },
          "metadata": {},
          "execution_count": 46
        }
      ]
    },
    {
      "cell_type": "code",
      "source": [
        "selected_cols = [wine_dataframe.columns[i] for i in (9, 11, 12)]\n",
        "selected_cols"
      ],
      "metadata": {
        "colab": {
          "base_uri": "https://localhost:8080/"
        },
        "id": "_O6VN2JMWvc3",
        "outputId": "395cda50-5ccd-4b99-b9cf-82118d404b5d"
      },
      "execution_count": 47,
      "outputs": [
        {
          "output_type": "execute_result",
          "data": {
            "text/plain": [
              "['color_intensity', 'od280/od315_of_diluted_wines', 'proline']"
            ]
          },
          "metadata": {},
          "execution_count": 47
        }
      ]
    },
    {
      "cell_type": "code",
      "source": [
        "X = wine_dataframe[selected_cols]\n",
        "y = wine_dataset['target']\n",
        "\n",
        "x_train, x_test, y_train, y_test = train_test_split(X, y, train_size=0.8, random_state=17)"
      ],
      "metadata": {
        "id": "ki4i1fpbW8RN"
      },
      "execution_count": 48,
      "outputs": []
    },
    {
      "cell_type": "markdown",
      "metadata": {
        "id": "HMLiMOUr1tU9"
      },
      "source": [
        "**Задайте тип кросс-валидации с помощью StratifiedKFold: 5-кратная, random_state=17.**"
      ]
    },
    {
      "cell_type": "code",
      "metadata": {
        "id": "OTY-C4me1tU-"
      },
      "source": [
        "from sklearn.model_selection import StratifiedKFold, cross_val_score"
      ],
      "execution_count": 49,
      "outputs": []
    },
    {
      "cell_type": "code",
      "metadata": {
        "id": "LOVHhQ921tVA"
      },
      "source": [
        "skf = StratifiedKFold(n_splits=5, random_state=17, shuffle=True)"
      ],
      "execution_count": 50,
      "outputs": []
    },
    {
      "cell_type": "markdown",
      "metadata": {
        "id": "-2ClbxRe1tVC"
      },
      "source": [
        "### 2.\n",
        "Обучите логистическую регрессию (LogisticRegression) с параметром C по умолчанию и random_state=17. Укажите гиперпараметр multi_class='ovr' - по умолчанию многие классификаторы используют именно его. С помощью cross_val_score сделайте кросс-валидацию (используйте объект skf) и выведите среднюю долю правильных ответов на ней (используйте функцию mean). Отдельно выведите долю правильных ответов на тестовой выборке."
      ]
    },
    {
      "cell_type": "code",
      "metadata": {
        "id": "oKxIIFGU1tVE"
      },
      "source": [
        "from sklearn.linear_model import LogisticRegression\n",
        "from sklearn.metrics import accuracy_score"
      ],
      "execution_count": 51,
      "outputs": []
    },
    {
      "cell_type": "code",
      "metadata": {
        "id": "CJhpcgqc1tVJ",
        "colab": {
          "base_uri": "https://localhost:8080/"
        },
        "outputId": "8c4f0d44-1670-40ef-8619-a90153322c5b"
      },
      "source": [
        "lr = LogisticRegression(random_state=17, multi_class='ovr')\n",
        "scores = cross_val_score(lr, X, y, cv=skf)\n",
        "print('Средняя доля правильных ответов кросс-валидации', scores.mean())"
      ],
      "execution_count": 52,
      "outputs": [
        {
          "output_type": "stream",
          "name": "stdout",
          "text": [
            "Средняя доля правильных ответов кросс-валидации 0.9330158730158731\n"
          ]
        }
      ]
    },
    {
      "cell_type": "code",
      "source": [
        "lr.fit(x_train, y_train)\n",
        "test_score = lr.score(x_test, y_test)\n",
        "print(\"Доля правильных ответов на тестовой выборке:\", test_score)"
      ],
      "metadata": {
        "colab": {
          "base_uri": "https://localhost:8080/"
        },
        "id": "jax3G_3vXR-p",
        "outputId": "bc5e2c84-ff4d-4c39-bc29-8f26e1398ba6"
      },
      "execution_count": 53,
      "outputs": [
        {
          "output_type": "stream",
          "name": "stdout",
          "text": [
            "Доля правильных ответов на тестовой выборке: 1.0\n"
          ]
        }
      ]
    },
    {
      "cell_type": "markdown",
      "metadata": {
        "id": "k2JoC3fB1tVM"
      },
      "source": [
        "### 3.\n",
        "Обучите метод опорных векторов (SVC) с random_state=17 и остальными параметрами по умолчанию. Этот метод при мультиклассовой классификации также использует метод \"ovr\". Сделайте кросс-валидацию (используйте skf) и, как и в предыдущем пункте, выведите среднюю долю правильных ответов на ней. Отдельно выведите долю правильных ответов на тестовой выборке."
      ]
    },
    {
      "cell_type": "code",
      "metadata": {
        "id": "50kaD7MQ1tVN"
      },
      "source": [
        "from sklearn.svm import SVC"
      ],
      "execution_count": 54,
      "outputs": []
    },
    {
      "cell_type": "code",
      "metadata": {
        "id": "3DCvlNRd1tVR",
        "colab": {
          "base_uri": "https://localhost:8080/"
        },
        "outputId": "de49d3bc-8ce1-4ae3-9fea-922459f23856"
      },
      "source": [
        "svс = SVC(random_state=17)\n",
        "scores = cross_val_score(svс, X, y, cv=skf)\n",
        "print('Средняя доля правильных ответов кросс-валидации', scores.mean())"
      ],
      "execution_count": 55,
      "outputs": [
        {
          "output_type": "stream",
          "name": "stdout",
          "text": [
            "Средняя доля правильных ответов кросс-валидации 0.6803174603174603\n"
          ]
        }
      ]
    },
    {
      "cell_type": "code",
      "source": [
        "svс.fit(x_train, y_train)\n",
        "test_score = svс.score(x_test, y_test)\n",
        "print(\"Доля правильных ответов на тестовой выборке:\", test_score)"
      ],
      "metadata": {
        "colab": {
          "base_uri": "https://localhost:8080/"
        },
        "id": "vyMIIiPUb5rp",
        "outputId": "1a08db73-3bd9-4631-f334-beb6f5120a17"
      },
      "execution_count": 56,
      "outputs": [
        {
          "output_type": "stream",
          "name": "stdout",
          "text": [
            "Доля правильных ответов на тестовой выборке: 0.6666666666666666\n"
          ]
        }
      ]
    },
    {
      "cell_type": "markdown",
      "metadata": {
        "id": "xMvjv6pR1tVX"
      },
      "source": [
        "Как видно из полученной метрики, на тестовой выборке метод с гиперпараметрами по умолчанию работает явно намного хуже логистической регрессии. В целом, SVM достаточно плохо масштабируется на размер обучающего набора данных (как видно, даже с тремя признаками он работает не очень хорошо), но благодаря возможности выбора различных ядер (функций близости, которые помогают разделять данные) и другим гиперпараметрам SVM можно достаточно точно настроить под определенный вид данных. Подробнее на этом останавливаться в контексте данного урока не будем."
      ]
    },
    {
      "cell_type": "markdown",
      "metadata": {
        "id": "0LqZbdk31tVY"
      },
      "source": [
        "### 4.\n",
        "Для предсказаний обеих моделей постройте матрицу ошибок (confusion matrix) и напишите, какие классы каждая из моделей путает больше всего между собой."
      ]
    },
    {
      "cell_type": "code",
      "source": [
        "confusion_matrix([0, 1, 0, 1], [1, 1, 1, 0])"
      ],
      "metadata": {
        "colab": {
          "base_uri": "https://localhost:8080/"
        },
        "id": "kXVvnsVreiWv",
        "outputId": "992ec9e1-f7d6-4443-a089-4dee3f507a61"
      },
      "execution_count": 57,
      "outputs": [
        {
          "output_type": "execute_result",
          "data": {
            "text/plain": [
              "array([[0, 2],\n",
              "       [1, 1]])"
            ]
          },
          "metadata": {},
          "execution_count": 57
        }
      ]
    },
    {
      "cell_type": "code",
      "metadata": {
        "id": "5dRSK--u1tVY"
      },
      "source": [
        "from sklearn.metrics import classification_report, confusion_matrix"
      ],
      "execution_count": 58,
      "outputs": []
    },
    {
      "cell_type": "code",
      "metadata": {
        "id": "VkXUKkhp1tVb",
        "colab": {
          "base_uri": "https://localhost:8080/"
        },
        "outputId": "bcb9e374-31ed-4385-eddf-08fd0d348515"
      },
      "source": [
        "lr_pred = lr.predict(x_test)\n",
        "lr_cm = confusion_matrix(y_test, lr_pred)\n",
        "print(lr_cm)"
      ],
      "execution_count": 59,
      "outputs": [
        {
          "output_type": "stream",
          "name": "stdout",
          "text": [
            "[[ 8  0  0]\n",
            " [ 0 16  0]\n",
            " [ 0  0 12]]\n"
          ]
        }
      ]
    },
    {
      "cell_type": "markdown",
      "source": [
        "*Модель ни разу не ошиблась*"
      ],
      "metadata": {
        "id": "MdQz3tQhhbgm"
      }
    },
    {
      "cell_type": "code",
      "source": [
        "svc_pred = svс.predict(x_test)\n",
        "svc_cm = confusion_matrix(y_test, svc_pred)\n",
        "print(svc_cm)"
      ],
      "metadata": {
        "colab": {
          "base_uri": "https://localhost:8080/"
        },
        "id": "6pCsnXw-dKaZ",
        "outputId": "3abb88eb-787e-4371-c7b1-fcf759bae662"
      },
      "execution_count": 60,
      "outputs": [
        {
          "output_type": "stream",
          "name": "stdout",
          "text": [
            "[[ 8  0  0]\n",
            " [ 0 16  0]\n",
            " [ 1 11  0]]\n"
          ]
        }
      ]
    },
    {
      "cell_type": "markdown",
      "source": [
        "*Модель чаще всего путает класс 2 с классом 1*"
      ],
      "metadata": {
        "id": "0uAhnGgLhi7b"
      }
    },
    {
      "cell_type": "markdown",
      "metadata": {
        "id": "mqW8if321tVd"
      },
      "source": [
        "### 5.\n",
        "Для каждой модели выведите classification report."
      ]
    },
    {
      "cell_type": "code",
      "metadata": {
        "id": "iuu7neuS1tVe",
        "colab": {
          "base_uri": "https://localhost:8080/"
        },
        "outputId": "d5e1ade4-6c71-46cd-b669-93f8d9396bbc"
      },
      "source": [
        "print(classification_report(y_test, lr_pred))"
      ],
      "execution_count": 63,
      "outputs": [
        {
          "output_type": "stream",
          "name": "stdout",
          "text": [
            "              precision    recall  f1-score   support\n",
            "\n",
            "           0       1.00      1.00      1.00         8\n",
            "           1       1.00      1.00      1.00        16\n",
            "           2       1.00      1.00      1.00        12\n",
            "\n",
            "    accuracy                           1.00        36\n",
            "   macro avg       1.00      1.00      1.00        36\n",
            "weighted avg       1.00      1.00      1.00        36\n",
            "\n"
          ]
        }
      ]
    },
    {
      "cell_type": "code",
      "source": [
        "print(classification_report(y_test, svc_pred))"
      ],
      "metadata": {
        "colab": {
          "base_uri": "https://localhost:8080/"
        },
        "id": "YnXJoHiyiS3o",
        "outputId": "fd986ac7-49fc-4449-88f1-654f62e38fc9"
      },
      "execution_count": 64,
      "outputs": [
        {
          "output_type": "stream",
          "name": "stdout",
          "text": [
            "              precision    recall  f1-score   support\n",
            "\n",
            "           0       0.89      1.00      0.94         8\n",
            "           1       0.59      1.00      0.74        16\n",
            "           2       0.00      0.00      0.00        12\n",
            "\n",
            "    accuracy                           0.67        36\n",
            "   macro avg       0.49      0.67      0.56        36\n",
            "weighted avg       0.46      0.67      0.54        36\n",
            "\n"
          ]
        },
        {
          "output_type": "stream",
          "name": "stderr",
          "text": [
            "/usr/local/lib/python3.10/dist-packages/sklearn/metrics/_classification.py:1344: UndefinedMetricWarning: Precision and F-score are ill-defined and being set to 0.0 in labels with no predicted samples. Use `zero_division` parameter to control this behavior.\n",
            "  _warn_prf(average, modifier, msg_start, len(result))\n",
            "/usr/local/lib/python3.10/dist-packages/sklearn/metrics/_classification.py:1344: UndefinedMetricWarning: Precision and F-score are ill-defined and being set to 0.0 in labels with no predicted samples. Use `zero_division` parameter to control this behavior.\n",
            "  _warn_prf(average, modifier, msg_start, len(result))\n",
            "/usr/local/lib/python3.10/dist-packages/sklearn/metrics/_classification.py:1344: UndefinedMetricWarning: Precision and F-score are ill-defined and being set to 0.0 in labels with no predicted samples. Use `zero_division` parameter to control this behavior.\n",
            "  _warn_prf(average, modifier, msg_start, len(result))\n"
          ]
        }
      ]
    }
  ]
}