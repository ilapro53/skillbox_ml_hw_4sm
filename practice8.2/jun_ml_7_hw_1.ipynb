{
  "nbformat": 4,
  "nbformat_minor": 0,
  "metadata": {
    "colab": {
      "provenance": []
    },
    "kernelspec": {
      "display_name": "Python 3",
      "language": "python",
      "name": "python3"
    },
    "language_info": {
      "codemirror_mode": {
        "name": "ipython",
        "version": 3
      },
      "file_extension": ".py",
      "mimetype": "text/x-python",
      "name": "python",
      "nbconvert_exporter": "python",
      "pygments_lexer": "ipython3",
      "version": "3.6.3"
    }
  },
  "cells": [
    {
      "cell_type": "markdown",
      "metadata": {
        "id": "d5lYtakjONu8"
      },
      "source": [
        "## Урок 2. Домашнее задание \n",
        "\n",
        "### 2.1 Домашнее задание начального уровня\n",
        "\n",
        "Вычислите евклидово расстояние между кластером *c1* и кластером *c3*. Это расстояние получилось меньше, или больше чем расстояние между кластером *c1* и кластером *c2*?\n",
        "\n",
        "Координаты центра для трёх кластеров:\n",
        "\n",
        "* \"красный\" кластер $c_1 = [1.0, 1.5]$\n",
        "* \"оранжевый\" кластер $c_2 = [-1.0, -0.5]$\n",
        "* \"зеленый\" кластер $c_3 = [1.0, -0.5]$\n",
        "\n",
        "![clustering_example](https://248006.selcdn.ru/public/DS.%20Block%202.%20M7/clustering_example.png)"
      ]
    },
    {
      "cell_type": "code",
      "source": [
        "import numpy as np"
      ],
      "metadata": {
        "id": "IigT8Z7R0Q82"
      },
      "execution_count": 7,
      "outputs": []
    },
    {
      "cell_type": "code",
      "source": [
        "c1 = [1.0, 1.5]\n",
        "c2 = [-1.0, -0.5]\n",
        "c3 = [1.0, -0.5]"
      ],
      "metadata": {
        "id": "hY-tU4nO0wO7"
      },
      "execution_count": 8,
      "outputs": []
    },
    {
      "cell_type": "code",
      "source": [
        "def euclidean_distance(a, b):\n",
        "  if not isinstance(a, np.ndarray):\n",
        "    a = np.array(a)\n",
        "  \n",
        "  if not isinstance(b, np.ndarray):\n",
        "    b = np.array(b)\n",
        "\n",
        "  return np.sqrt(np.sum((a-b)**2))"
      ],
      "metadata": {
        "id": "-ldasw9E0TaV"
      },
      "execution_count": 9,
      "outputs": []
    },
    {
      "cell_type": "code",
      "metadata": {
        "id": "_BUBuVtnONu_",
        "outputId": "34bdf0ab-6f5f-4d14-f122-224d5eaba2ba",
        "colab": {
          "base_uri": "https://localhost:8080/"
        }
      },
      "source": [
        "d_c1_c3 = euclidean_distance(c1, c3)\n",
        "d_c1_c2 = euclidean_distance(c1, c2)\n",
        "\n",
        "print('Расстояние между кластерами c1 и c3: {d}'.format(d=d_c1_c3))\n",
        "print('Расстояние между кластерами c1 и c2: {d}'.format(d=d_c1_c2))\n",
        "print('Расстояние между кластерами c1 и c3 '\n",
        "      '< расстояния между c1 и c2? {answ}'\\\n",
        "          .format(answ=d_c1_c3 < d_c1_c2))"
      ],
      "execution_count": 10,
      "outputs": [
        {
          "output_type": "stream",
          "name": "stdout",
          "text": [
            "Расстояние между кластерами c1 и c3: 2.0\n",
            "Расстояние между кластерами c1 и c2: 2.8284271247461903\n",
            "Расстояние между кластерами c1 и c3 < расстояния между c1 и c2? True\n"
          ]
        }
      ]
    },
    {
      "cell_type": "markdown",
      "metadata": {
        "id": "erGAkM0UONvJ"
      },
      "source": [
        "В этом уроке мы познакомились с постановкой задачи кластеризации. Мы узнали, с помощью какой функции можно вычислить расстояние между двумя точками. В следующем уроке мы рассмотрим один из самых простых алгоритмов кластеризации, который назовём алгоритмом $k-$средних."
      ]
    }
  ]
}