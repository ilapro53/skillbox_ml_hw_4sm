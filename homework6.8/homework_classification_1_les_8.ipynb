{
  "nbformat": 4,
  "nbformat_minor": 0,
  "metadata": {
    "colab": {
      "provenance": []
    },
    "kernelspec": {
      "display_name": "Python 3",
      "language": "python",
      "name": "python3"
    },
    "language_info": {
      "codemirror_mode": {
        "name": "ipython",
        "version": 3
      },
      "file_extension": ".py",
      "mimetype": "text/x-python",
      "name": "python",
      "nbconvert_exporter": "python",
      "pygments_lexer": "ipython3",
      "version": "3.6.3"
    }
  },
  "cells": [
    {
      "cell_type": "markdown",
      "metadata": {
        "id": "gyHxysn44I-z"
      },
      "source": [
        "# Урок 8. Деревья решений.\n",
        "\n",
        "В уроках мы разбирали на небольшом наборе данных деревья решений без настройки гиперпараметров. Здесь предлагаем вам рассмотреть работу классификатора на более сложном датасете, применив настройку гиперпараметров."
      ]
    },
    {
      "cell_type": "markdown",
      "metadata": {
        "id": "ie9fI_rI4I-1"
      },
      "source": [
        "### 1.\n",
        "На датасете из предыдущего урока - load_wine() - обучите дерево решений (DecisionTreeClassifier)."
      ]
    },
    {
      "cell_type": "markdown",
      "metadata": {
        "id": "Fz-HWZqk4I-2"
      },
      "source": [
        "*Примечание: при установке гиперпараметров модели и разбиении на тренировочный и тестовый датасеты используйте random_state=17 для воспроизводимости результатов.*"
      ]
    },
    {
      "cell_type": "code",
      "metadata": {
        "id": "XdWEqtdn4I-4"
      },
      "source": [
        "from sklearn.datasets import load_wine\n",
        "from sklearn.tree import DecisionTreeClassifier\n",
        "from sklearn.model_selection import train_test_split, cross_val_score, GridSearchCV\n",
        "from sklearn import tree\n",
        "from sklearn.metrics import accuracy_score\n",
        "\n",
        "import pandas as pd\n",
        "import graphviz"
      ],
      "execution_count": 19,
      "outputs": []
    },
    {
      "cell_type": "code",
      "metadata": {
        "id": "dxhahZySMKou"
      },
      "source": [
        "wine_dataset = load_wine()\n",
        "wine_dataframe = pd.DataFrame(wine_dataset['data'], columns=wine_dataset.feature_names)"
      ],
      "execution_count": 20,
      "outputs": []
    },
    {
      "cell_type": "code",
      "source": [
        "wine_dataframe.columns"
      ],
      "metadata": {
        "id": "AA_XMFwGkjGM",
        "outputId": "5440d7a6-f310-461b-f14c-258ff038a97e",
        "colab": {
          "base_uri": "https://localhost:8080/"
        }
      },
      "execution_count": 21,
      "outputs": [
        {
          "output_type": "execute_result",
          "data": {
            "text/plain": [
              "Index(['alcohol', 'malic_acid', 'ash', 'alcalinity_of_ash', 'magnesium',\n",
              "       'total_phenols', 'flavanoids', 'nonflavanoid_phenols',\n",
              "       'proanthocyanins', 'color_intensity', 'hue',\n",
              "       'od280/od315_of_diluted_wines', 'proline'],\n",
              "      dtype='object')"
            ]
          },
          "metadata": {},
          "execution_count": 21
        }
      ]
    },
    {
      "cell_type": "code",
      "source": [
        "X = wine_dataframe\n",
        "y = wine_dataset['target']\n",
        "\n",
        "x_train, x_test, y_train, y_test = train_test_split(X, y, train_size=0.8, random_state=17)"
      ],
      "metadata": {
        "id": "ki4i1fpbW8RN"
      },
      "execution_count": 22,
      "outputs": []
    },
    {
      "cell_type": "code",
      "source": [
        "dtc = DecisionTreeClassifier(random_state=17)\n",
        "dtc_model = dtc.fit(x_train, y_train)"
      ],
      "metadata": {
        "id": "PIlU0iSEWmHj"
      },
      "execution_count": 23,
      "outputs": []
    },
    {
      "cell_type": "markdown",
      "metadata": {
        "id": "Lsp2IelB4I-9"
      },
      "source": [
        "### 2.\n",
        "Отобразите дерево с помощью библиотеки graphviz.\n",
        "\n",
        "*Примечание: если, изучая урок, вы не установили библиотеку graphviz, то необходимо сделать это сейчас.*"
      ]
    },
    {
      "cell_type": "code",
      "source": [
        "def print_graph(data):\n",
        "    dot_data = tree.export_graphviz(data, out_file=None,\n",
        "                                    feature_names=wine_dataset.feature_names,\n",
        "                                    class_names=wine_dataset.target_names,\n",
        "                                    filled=True)\n",
        "    return graphviz.Source(dot_data)"
      ],
      "metadata": {
        "id": "1Bpl3ZSbbk8h"
      },
      "execution_count": 24,
      "outputs": []
    },
    {
      "cell_type": "code",
      "metadata": {
        "id": "xb-TBuRW4I_B",
        "colab": {
          "base_uri": "https://localhost:8080/",
          "height": 916
        },
        "outputId": "1f4f6167-7cd8-46d1-8829-e621b424f7f3"
      },
      "source": [
        "print_graph(dtc_model)"
      ],
      "execution_count": 25,
      "outputs": [
        {
          "output_type": "execute_result",
          "data": {
            "image/svg+xml": "<?xml version=\"1.0\" encoding=\"UTF-8\" standalone=\"no\"?>\n<!DOCTYPE svg PUBLIC \"-//W3C//DTD SVG 1.1//EN\"\n \"http://www.w3.org/Graphics/SVG/1.1/DTD/svg11.dtd\">\n<!-- Generated by graphviz version 2.43.0 (0)\n -->\n<!-- Title: Tree Pages: 1 -->\n<svg width=\"1045pt\" height=\"671pt\"\n viewBox=\"0.00 0.00 1044.50 671.00\" xmlns=\"http://www.w3.org/2000/svg\" xmlns:xlink=\"http://www.w3.org/1999/xlink\">\n<g id=\"graph0\" class=\"graph\" transform=\"scale(1 1) rotate(0) translate(4 667)\">\n<title>Tree</title>\n<polygon fill=\"white\" stroke=\"transparent\" points=\"-4,4 -4,-667 1040.5,-667 1040.5,4 -4,4\"/>\n<!-- 0 -->\n<g id=\"node1\" class=\"node\">\n<title>0</title>\n<polygon fill=\"#f6fef9\" stroke=\"black\" points=\"579,-663 447,-663 447,-580 579,-580 579,-663\"/>\n<text text-anchor=\"middle\" x=\"513\" y=\"-647.8\" font-family=\"Helvetica,sans-Serif\" font-size=\"14.00\">proline &lt;= 755.0</text>\n<text text-anchor=\"middle\" x=\"513\" y=\"-632.8\" font-family=\"Helvetica,sans-Serif\" font-size=\"14.00\">gini = 0.657</text>\n<text text-anchor=\"middle\" x=\"513\" y=\"-617.8\" font-family=\"Helvetica,sans-Serif\" font-size=\"14.00\">samples = 142</text>\n<text text-anchor=\"middle\" x=\"513\" y=\"-602.8\" font-family=\"Helvetica,sans-Serif\" font-size=\"14.00\">value = [51, 55, 36]</text>\n<text text-anchor=\"middle\" x=\"513\" y=\"-587.8\" font-family=\"Helvetica,sans-Serif\" font-size=\"14.00\">class = class_1</text>\n</g>\n<!-- 1 -->\n<g id=\"node2\" class=\"node\">\n<title>1</title>\n<polygon fill=\"#b4f5cf\" stroke=\"black\" points=\"465.5,-544 330.5,-544 330.5,-461 465.5,-461 465.5,-544\"/>\n<text text-anchor=\"middle\" x=\"398\" y=\"-528.8\" font-family=\"Helvetica,sans-Serif\" font-size=\"14.00\">flavanoids &lt;= 1.315</text>\n<text text-anchor=\"middle\" x=\"398\" y=\"-513.8\" font-family=\"Helvetica,sans-Serif\" font-size=\"14.00\">gini = 0.495</text>\n<text text-anchor=\"middle\" x=\"398\" y=\"-498.8\" font-family=\"Helvetica,sans-Serif\" font-size=\"14.00\">samples = 84</text>\n<text text-anchor=\"middle\" x=\"398\" y=\"-483.8\" font-family=\"Helvetica,sans-Serif\" font-size=\"14.00\">value = [2, 51, 31]</text>\n<text text-anchor=\"middle\" x=\"398\" y=\"-468.8\" font-family=\"Helvetica,sans-Serif\" font-size=\"14.00\">class = class_1</text>\n</g>\n<!-- 0&#45;&gt;1 -->\n<g id=\"edge1\" class=\"edge\">\n<title>0&#45;&gt;1</title>\n<path fill=\"none\" stroke=\"black\" d=\"M473.1,-579.91C464,-570.65 454.25,-560.73 444.89,-551.21\"/>\n<polygon fill=\"black\" stroke=\"black\" points=\"447.33,-548.7 437.83,-544.02 442.34,-553.61 447.33,-548.7\"/>\n<text text-anchor=\"middle\" x=\"437.61\" y=\"-565.32\" font-family=\"Helvetica,sans-Serif\" font-size=\"14.00\">True</text>\n</g>\n<!-- 12 -->\n<g id=\"node13\" class=\"node\">\n<title>12</title>\n<polygon fill=\"#e9965b\" stroke=\"black\" points=\"705.5,-544 570.5,-544 570.5,-461 705.5,-461 705.5,-544\"/>\n<text text-anchor=\"middle\" x=\"638\" y=\"-528.8\" font-family=\"Helvetica,sans-Serif\" font-size=\"14.00\">flavanoids &lt;= 2.165</text>\n<text text-anchor=\"middle\" x=\"638\" y=\"-513.8\" font-family=\"Helvetica,sans-Serif\" font-size=\"14.00\">gini = 0.274</text>\n<text text-anchor=\"middle\" x=\"638\" y=\"-498.8\" font-family=\"Helvetica,sans-Serif\" font-size=\"14.00\">samples = 58</text>\n<text text-anchor=\"middle\" x=\"638\" y=\"-483.8\" font-family=\"Helvetica,sans-Serif\" font-size=\"14.00\">value = [49, 4, 5]</text>\n<text text-anchor=\"middle\" x=\"638\" y=\"-468.8\" font-family=\"Helvetica,sans-Serif\" font-size=\"14.00\">class = class_0</text>\n</g>\n<!-- 0&#45;&gt;12 -->\n<g id=\"edge12\" class=\"edge\">\n<title>0&#45;&gt;12</title>\n<path fill=\"none\" stroke=\"black\" d=\"M556.37,-579.91C566.35,-570.56 577.06,-560.54 587.33,-550.93\"/>\n<polygon fill=\"black\" stroke=\"black\" points=\"589.8,-553.41 594.71,-544.02 585.02,-548.3 589.8,-553.41\"/>\n<text text-anchor=\"middle\" x=\"593.88\" y=\"-565.31\" font-family=\"Helvetica,sans-Serif\" font-size=\"14.00\">False</text>\n</g>\n<!-- 2 -->\n<g id=\"node3\" class=\"node\">\n<title>2</title>\n<polygon fill=\"#9254e9\" stroke=\"black\" points=\"267.5,-425 106.5,-425 106.5,-342 267.5,-342 267.5,-425\"/>\n<text text-anchor=\"middle\" x=\"187\" y=\"-409.8\" font-family=\"Helvetica,sans-Serif\" font-size=\"14.00\">color_intensity &lt;= 3.975</text>\n<text text-anchor=\"middle\" x=\"187\" y=\"-394.8\" font-family=\"Helvetica,sans-Serif\" font-size=\"14.00\">gini = 0.213</text>\n<text text-anchor=\"middle\" x=\"187\" y=\"-379.8\" font-family=\"Helvetica,sans-Serif\" font-size=\"14.00\">samples = 33</text>\n<text text-anchor=\"middle\" x=\"187\" y=\"-364.8\" font-family=\"Helvetica,sans-Serif\" font-size=\"14.00\">value = [0, 4, 29]</text>\n<text text-anchor=\"middle\" x=\"187\" y=\"-349.8\" font-family=\"Helvetica,sans-Serif\" font-size=\"14.00\">class = class_2</text>\n</g>\n<!-- 1&#45;&gt;2 -->\n<g id=\"edge2\" class=\"edge\">\n<title>1&#45;&gt;2</title>\n<path fill=\"none\" stroke=\"black\" d=\"M330.37,-464C310.84,-453.17 289.31,-441.23 269.01,-429.97\"/>\n<polygon fill=\"black\" stroke=\"black\" points=\"270.53,-426.81 260.08,-425.03 267.13,-432.94 270.53,-426.81\"/>\n</g>\n<!-- 5 -->\n<g id=\"node6\" class=\"node\">\n<title>5</title>\n<polygon fill=\"#49e78b\" stroke=\"black\" points=\"471,-425 325,-425 325,-342 471,-342 471,-425\"/>\n<text text-anchor=\"middle\" x=\"398\" y=\"-409.8\" font-family=\"Helvetica,sans-Serif\" font-size=\"14.00\">color_intensity &lt;= 7.3</text>\n<text text-anchor=\"middle\" x=\"398\" y=\"-394.8\" font-family=\"Helvetica,sans-Serif\" font-size=\"14.00\">gini = 0.148</text>\n<text text-anchor=\"middle\" x=\"398\" y=\"-379.8\" font-family=\"Helvetica,sans-Serif\" font-size=\"14.00\">samples = 51</text>\n<text text-anchor=\"middle\" x=\"398\" y=\"-364.8\" font-family=\"Helvetica,sans-Serif\" font-size=\"14.00\">value = [2, 47, 2]</text>\n<text text-anchor=\"middle\" x=\"398\" y=\"-349.8\" font-family=\"Helvetica,sans-Serif\" font-size=\"14.00\">class = class_1</text>\n</g>\n<!-- 1&#45;&gt;5 -->\n<g id=\"edge5\" class=\"edge\">\n<title>1&#45;&gt;5</title>\n<path fill=\"none\" stroke=\"black\" d=\"M398,-460.91C398,-452.65 398,-443.86 398,-435.3\"/>\n<polygon fill=\"black\" stroke=\"black\" points=\"401.5,-435.02 398,-425.02 394.5,-435.02 401.5,-435.02\"/>\n</g>\n<!-- 3 -->\n<g id=\"node4\" class=\"node\">\n<title>3</title>\n<polygon fill=\"#39e581\" stroke=\"black\" points=\"110,-298.5 0,-298.5 0,-230.5 110,-230.5 110,-298.5\"/>\n<text text-anchor=\"middle\" x=\"55\" y=\"-283.3\" font-family=\"Helvetica,sans-Serif\" font-size=\"14.00\">gini = 0.0</text>\n<text text-anchor=\"middle\" x=\"55\" y=\"-268.3\" font-family=\"Helvetica,sans-Serif\" font-size=\"14.00\">samples = 4</text>\n<text text-anchor=\"middle\" x=\"55\" y=\"-253.3\" font-family=\"Helvetica,sans-Serif\" font-size=\"14.00\">value = [0, 4, 0]</text>\n<text text-anchor=\"middle\" x=\"55\" y=\"-238.3\" font-family=\"Helvetica,sans-Serif\" font-size=\"14.00\">class = class_1</text>\n</g>\n<!-- 2&#45;&gt;3 -->\n<g id=\"edge3\" class=\"edge\">\n<title>2&#45;&gt;3</title>\n<path fill=\"none\" stroke=\"black\" d=\"M141.2,-341.91C127.88,-330.1 113.35,-317.22 100.07,-305.45\"/>\n<polygon fill=\"black\" stroke=\"black\" points=\"102.22,-302.68 92.42,-298.67 97.58,-307.92 102.22,-302.68\"/>\n</g>\n<!-- 4 -->\n<g id=\"node5\" class=\"node\">\n<title>4</title>\n<polygon fill=\"#8139e5\" stroke=\"black\" points=\"245.5,-298.5 128.5,-298.5 128.5,-230.5 245.5,-230.5 245.5,-298.5\"/>\n<text text-anchor=\"middle\" x=\"187\" y=\"-283.3\" font-family=\"Helvetica,sans-Serif\" font-size=\"14.00\">gini = 0.0</text>\n<text text-anchor=\"middle\" x=\"187\" y=\"-268.3\" font-family=\"Helvetica,sans-Serif\" font-size=\"14.00\">samples = 29</text>\n<text text-anchor=\"middle\" x=\"187\" y=\"-253.3\" font-family=\"Helvetica,sans-Serif\" font-size=\"14.00\">value = [0, 0, 29]</text>\n<text text-anchor=\"middle\" x=\"187\" y=\"-238.3\" font-family=\"Helvetica,sans-Serif\" font-size=\"14.00\">class = class_2</text>\n</g>\n<!-- 2&#45;&gt;4 -->\n<g id=\"edge4\" class=\"edge\">\n<title>2&#45;&gt;4</title>\n<path fill=\"none\" stroke=\"black\" d=\"M187,-341.91C187,-331.2 187,-319.62 187,-308.78\"/>\n<polygon fill=\"black\" stroke=\"black\" points=\"190.5,-308.67 187,-298.67 183.5,-308.67 190.5,-308.67\"/>\n</g>\n<!-- 6 -->\n<g id=\"node7\" class=\"node\">\n<title>6</title>\n<polygon fill=\"#41e686\" stroke=\"black\" points=\"388.5,-306 263.5,-306 263.5,-223 388.5,-223 388.5,-306\"/>\n<text text-anchor=\"middle\" x=\"326\" y=\"-290.8\" font-family=\"Helvetica,sans-Serif\" font-size=\"14.00\">alcohol &lt;= 13.175</text>\n<text text-anchor=\"middle\" x=\"326\" y=\"-275.8\" font-family=\"Helvetica,sans-Serif\" font-size=\"14.00\">gini = 0.078</text>\n<text text-anchor=\"middle\" x=\"326\" y=\"-260.8\" font-family=\"Helvetica,sans-Serif\" font-size=\"14.00\">samples = 49</text>\n<text text-anchor=\"middle\" x=\"326\" y=\"-245.8\" font-family=\"Helvetica,sans-Serif\" font-size=\"14.00\">value = [2, 47, 0]</text>\n<text text-anchor=\"middle\" x=\"326\" y=\"-230.8\" font-family=\"Helvetica,sans-Serif\" font-size=\"14.00\">class = class_1</text>\n</g>\n<!-- 5&#45;&gt;6 -->\n<g id=\"edge6\" class=\"edge\">\n<title>5&#45;&gt;6</title>\n<path fill=\"none\" stroke=\"black\" d=\"M373.02,-341.91C367.6,-333.1 361.82,-323.7 356.22,-314.61\"/>\n<polygon fill=\"black\" stroke=\"black\" points=\"359.16,-312.7 350.94,-306.02 353.2,-316.37 359.16,-312.7\"/>\n</g>\n<!-- 11 -->\n<g id=\"node12\" class=\"node\">\n<title>11</title>\n<polygon fill=\"#8139e5\" stroke=\"black\" points=\"517,-298.5 407,-298.5 407,-230.5 517,-230.5 517,-298.5\"/>\n<text text-anchor=\"middle\" x=\"462\" y=\"-283.3\" font-family=\"Helvetica,sans-Serif\" font-size=\"14.00\">gini = 0.0</text>\n<text text-anchor=\"middle\" x=\"462\" y=\"-268.3\" font-family=\"Helvetica,sans-Serif\" font-size=\"14.00\">samples = 2</text>\n<text text-anchor=\"middle\" x=\"462\" y=\"-253.3\" font-family=\"Helvetica,sans-Serif\" font-size=\"14.00\">value = [0, 0, 2]</text>\n<text text-anchor=\"middle\" x=\"462\" y=\"-238.3\" font-family=\"Helvetica,sans-Serif\" font-size=\"14.00\">class = class_2</text>\n</g>\n<!-- 5&#45;&gt;11 -->\n<g id=\"edge11\" class=\"edge\">\n<title>5&#45;&gt;11</title>\n<path fill=\"none\" stroke=\"black\" d=\"M420.2,-341.91C426.24,-330.87 432.79,-318.9 438.88,-307.77\"/>\n<polygon fill=\"black\" stroke=\"black\" points=\"442.13,-309.12 443.86,-298.67 435.99,-305.76 442.13,-309.12\"/>\n</g>\n<!-- 7 -->\n<g id=\"node8\" class=\"node\">\n<title>7</title>\n<polygon fill=\"#39e581\" stroke=\"black\" points=\"311.5,-179.5 194.5,-179.5 194.5,-111.5 311.5,-111.5 311.5,-179.5\"/>\n<text text-anchor=\"middle\" x=\"253\" y=\"-164.3\" font-family=\"Helvetica,sans-Serif\" font-size=\"14.00\">gini = 0.0</text>\n<text text-anchor=\"middle\" x=\"253\" y=\"-149.3\" font-family=\"Helvetica,sans-Serif\" font-size=\"14.00\">samples = 44</text>\n<text text-anchor=\"middle\" x=\"253\" y=\"-134.3\" font-family=\"Helvetica,sans-Serif\" font-size=\"14.00\">value = [0, 44, 0]</text>\n<text text-anchor=\"middle\" x=\"253\" y=\"-119.3\" font-family=\"Helvetica,sans-Serif\" font-size=\"14.00\">class = class_1</text>\n</g>\n<!-- 6&#45;&gt;7 -->\n<g id=\"edge7\" class=\"edge\">\n<title>6&#45;&gt;7</title>\n<path fill=\"none\" stroke=\"black\" d=\"M300.67,-222.91C293.72,-211.76 286.17,-199.66 279.17,-188.44\"/>\n<polygon fill=\"black\" stroke=\"black\" points=\"281.96,-186.3 273.69,-179.67 276.02,-190 281.96,-186.3\"/>\n</g>\n<!-- 8 -->\n<g id=\"node9\" class=\"node\">\n<title>8</title>\n<polygon fill=\"#bdf6d5\" stroke=\"black\" points=\"468.5,-187 329.5,-187 329.5,-104 468.5,-104 468.5,-187\"/>\n<text text-anchor=\"middle\" x=\"399\" y=\"-171.8\" font-family=\"Helvetica,sans-Serif\" font-size=\"14.00\">malic_acid &lt;= 2.125</text>\n<text text-anchor=\"middle\" x=\"399\" y=\"-156.8\" font-family=\"Helvetica,sans-Serif\" font-size=\"14.00\">gini = 0.48</text>\n<text text-anchor=\"middle\" x=\"399\" y=\"-141.8\" font-family=\"Helvetica,sans-Serif\" font-size=\"14.00\">samples = 5</text>\n<text text-anchor=\"middle\" x=\"399\" y=\"-126.8\" font-family=\"Helvetica,sans-Serif\" font-size=\"14.00\">value = [2, 3, 0]</text>\n<text text-anchor=\"middle\" x=\"399\" y=\"-111.8\" font-family=\"Helvetica,sans-Serif\" font-size=\"14.00\">class = class_1</text>\n</g>\n<!-- 6&#45;&gt;8 -->\n<g id=\"edge8\" class=\"edge\">\n<title>6&#45;&gt;8</title>\n<path fill=\"none\" stroke=\"black\" d=\"M351.33,-222.91C356.82,-214.1 362.69,-204.7 368.36,-195.61\"/>\n<polygon fill=\"black\" stroke=\"black\" points=\"371.39,-197.36 373.72,-187.02 365.45,-193.65 371.39,-197.36\"/>\n</g>\n<!-- 9 -->\n<g id=\"node10\" class=\"node\">\n<title>9</title>\n<polygon fill=\"#39e581\" stroke=\"black\" points=\"390,-68 280,-68 280,0 390,0 390,-68\"/>\n<text text-anchor=\"middle\" x=\"335\" y=\"-52.8\" font-family=\"Helvetica,sans-Serif\" font-size=\"14.00\">gini = 0.0</text>\n<text text-anchor=\"middle\" x=\"335\" y=\"-37.8\" font-family=\"Helvetica,sans-Serif\" font-size=\"14.00\">samples = 3</text>\n<text text-anchor=\"middle\" x=\"335\" y=\"-22.8\" font-family=\"Helvetica,sans-Serif\" font-size=\"14.00\">value = [0, 3, 0]</text>\n<text text-anchor=\"middle\" x=\"335\" y=\"-7.8\" font-family=\"Helvetica,sans-Serif\" font-size=\"14.00\">class = class_1</text>\n</g>\n<!-- 8&#45;&gt;9 -->\n<g id=\"edge9\" class=\"edge\">\n<title>8&#45;&gt;9</title>\n<path fill=\"none\" stroke=\"black\" d=\"M375.17,-103.73C370.1,-95.06 364.75,-85.9 359.65,-77.18\"/>\n<polygon fill=\"black\" stroke=\"black\" points=\"362.53,-75.17 354.46,-68.3 356.49,-78.7 362.53,-75.17\"/>\n</g>\n<!-- 10 -->\n<g id=\"node11\" class=\"node\">\n<title>10</title>\n<polygon fill=\"#e58139\" stroke=\"black\" points=\"518,-68 408,-68 408,0 518,0 518,-68\"/>\n<text text-anchor=\"middle\" x=\"463\" y=\"-52.8\" font-family=\"Helvetica,sans-Serif\" font-size=\"14.00\">gini = 0.0</text>\n<text text-anchor=\"middle\" x=\"463\" y=\"-37.8\" font-family=\"Helvetica,sans-Serif\" font-size=\"14.00\">samples = 2</text>\n<text text-anchor=\"middle\" x=\"463\" y=\"-22.8\" font-family=\"Helvetica,sans-Serif\" font-size=\"14.00\">value = [2, 0, 0]</text>\n<text text-anchor=\"middle\" x=\"463\" y=\"-7.8\" font-family=\"Helvetica,sans-Serif\" font-size=\"14.00\">class = class_0</text>\n</g>\n<!-- 8&#45;&gt;10 -->\n<g id=\"edge10\" class=\"edge\">\n<title>8&#45;&gt;10</title>\n<path fill=\"none\" stroke=\"black\" d=\"M422.83,-103.73C427.9,-95.06 433.25,-85.9 438.35,-77.18\"/>\n<polygon fill=\"black\" stroke=\"black\" points=\"441.51,-78.7 443.54,-68.3 435.47,-75.17 441.51,-78.7\"/>\n</g>\n<!-- 13 -->\n<g id=\"node14\" class=\"node\">\n<title>13</title>\n<polygon fill=\"#b388ef\" stroke=\"black\" points=\"698,-425 578,-425 578,-342 698,-342 698,-425\"/>\n<text text-anchor=\"middle\" x=\"638\" y=\"-409.8\" font-family=\"Helvetica,sans-Serif\" font-size=\"14.00\">flavanoids &lt;= 0.9</text>\n<text text-anchor=\"middle\" x=\"638\" y=\"-394.8\" font-family=\"Helvetica,sans-Serif\" font-size=\"14.00\">gini = 0.408</text>\n<text text-anchor=\"middle\" x=\"638\" y=\"-379.8\" font-family=\"Helvetica,sans-Serif\" font-size=\"14.00\">samples = 7</text>\n<text text-anchor=\"middle\" x=\"638\" y=\"-364.8\" font-family=\"Helvetica,sans-Serif\" font-size=\"14.00\">value = [0, 2, 5]</text>\n<text text-anchor=\"middle\" x=\"638\" y=\"-349.8\" font-family=\"Helvetica,sans-Serif\" font-size=\"14.00\">class = class_2</text>\n</g>\n<!-- 12&#45;&gt;13 -->\n<g id=\"edge13\" class=\"edge\">\n<title>12&#45;&gt;13</title>\n<path fill=\"none\" stroke=\"black\" d=\"M638,-460.91C638,-452.65 638,-443.86 638,-435.3\"/>\n<polygon fill=\"black\" stroke=\"black\" points=\"641.5,-435.02 638,-425.02 634.5,-435.02 641.5,-435.02\"/>\n</g>\n<!-- 16 -->\n<g id=\"node17\" class=\"node\">\n<title>16</title>\n<polygon fill=\"#e68641\" stroke=\"black\" points=\"926.5,-425 765.5,-425 765.5,-342 926.5,-342 926.5,-425\"/>\n<text text-anchor=\"middle\" x=\"846\" y=\"-409.8\" font-family=\"Helvetica,sans-Serif\" font-size=\"14.00\">color_intensity &lt;= 3.435</text>\n<text text-anchor=\"middle\" x=\"846\" y=\"-394.8\" font-family=\"Helvetica,sans-Serif\" font-size=\"14.00\">gini = 0.075</text>\n<text text-anchor=\"middle\" x=\"846\" y=\"-379.8\" font-family=\"Helvetica,sans-Serif\" font-size=\"14.00\">samples = 51</text>\n<text text-anchor=\"middle\" x=\"846\" y=\"-364.8\" font-family=\"Helvetica,sans-Serif\" font-size=\"14.00\">value = [49, 2, 0]</text>\n<text text-anchor=\"middle\" x=\"846\" y=\"-349.8\" font-family=\"Helvetica,sans-Serif\" font-size=\"14.00\">class = class_0</text>\n</g>\n<!-- 12&#45;&gt;16 -->\n<g id=\"edge16\" class=\"edge\">\n<title>12&#45;&gt;16</title>\n<path fill=\"none\" stroke=\"black\" d=\"M705.53,-463.51C724.46,-452.87 745.23,-441.18 764.86,-430.14\"/>\n<polygon fill=\"black\" stroke=\"black\" points=\"766.79,-433.07 773.79,-425.12 763.36,-426.97 766.79,-433.07\"/>\n</g>\n<!-- 14 -->\n<g id=\"node15\" class=\"node\">\n<title>14</title>\n<polygon fill=\"#8139e5\" stroke=\"black\" points=\"645,-298.5 535,-298.5 535,-230.5 645,-230.5 645,-298.5\"/>\n<text text-anchor=\"middle\" x=\"590\" y=\"-283.3\" font-family=\"Helvetica,sans-Serif\" font-size=\"14.00\">gini = 0.0</text>\n<text text-anchor=\"middle\" x=\"590\" y=\"-268.3\" font-family=\"Helvetica,sans-Serif\" font-size=\"14.00\">samples = 5</text>\n<text text-anchor=\"middle\" x=\"590\" y=\"-253.3\" font-family=\"Helvetica,sans-Serif\" font-size=\"14.00\">value = [0, 0, 5]</text>\n<text text-anchor=\"middle\" x=\"590\" y=\"-238.3\" font-family=\"Helvetica,sans-Serif\" font-size=\"14.00\">class = class_2</text>\n</g>\n<!-- 13&#45;&gt;14 -->\n<g id=\"edge14\" class=\"edge\">\n<title>13&#45;&gt;14</title>\n<path fill=\"none\" stroke=\"black\" d=\"M621.35,-341.91C616.86,-330.98 612,-319.14 607.48,-308.11\"/>\n<polygon fill=\"black\" stroke=\"black\" points=\"610.64,-306.59 603.61,-298.67 604.16,-309.25 610.64,-306.59\"/>\n</g>\n<!-- 15 -->\n<g id=\"node16\" class=\"node\">\n<title>15</title>\n<polygon fill=\"#39e581\" stroke=\"black\" points=\"773,-298.5 663,-298.5 663,-230.5 773,-230.5 773,-298.5\"/>\n<text text-anchor=\"middle\" x=\"718\" y=\"-283.3\" font-family=\"Helvetica,sans-Serif\" font-size=\"14.00\">gini = 0.0</text>\n<text text-anchor=\"middle\" x=\"718\" y=\"-268.3\" font-family=\"Helvetica,sans-Serif\" font-size=\"14.00\">samples = 2</text>\n<text text-anchor=\"middle\" x=\"718\" y=\"-253.3\" font-family=\"Helvetica,sans-Serif\" font-size=\"14.00\">value = [0, 2, 0]</text>\n<text text-anchor=\"middle\" x=\"718\" y=\"-238.3\" font-family=\"Helvetica,sans-Serif\" font-size=\"14.00\">class = class_1</text>\n</g>\n<!-- 13&#45;&gt;15 -->\n<g id=\"edge15\" class=\"edge\">\n<title>13&#45;&gt;15</title>\n<path fill=\"none\" stroke=\"black\" d=\"M665.76,-341.91C673.45,-330.65 681.82,-318.42 689.55,-307.11\"/>\n<polygon fill=\"black\" stroke=\"black\" points=\"692.57,-308.9 695.32,-298.67 686.79,-304.95 692.57,-308.9\"/>\n</g>\n<!-- 17 -->\n<g id=\"node18\" class=\"node\">\n<title>17</title>\n<polygon fill=\"#39e581\" stroke=\"black\" points=\"901,-298.5 791,-298.5 791,-230.5 901,-230.5 901,-298.5\"/>\n<text text-anchor=\"middle\" x=\"846\" y=\"-283.3\" font-family=\"Helvetica,sans-Serif\" font-size=\"14.00\">gini = 0.0</text>\n<text text-anchor=\"middle\" x=\"846\" y=\"-268.3\" font-family=\"Helvetica,sans-Serif\" font-size=\"14.00\">samples = 2</text>\n<text text-anchor=\"middle\" x=\"846\" y=\"-253.3\" font-family=\"Helvetica,sans-Serif\" font-size=\"14.00\">value = [0, 2, 0]</text>\n<text text-anchor=\"middle\" x=\"846\" y=\"-238.3\" font-family=\"Helvetica,sans-Serif\" font-size=\"14.00\">class = class_1</text>\n</g>\n<!-- 16&#45;&gt;17 -->\n<g id=\"edge17\" class=\"edge\">\n<title>16&#45;&gt;17</title>\n<path fill=\"none\" stroke=\"black\" d=\"M846,-341.91C846,-331.2 846,-319.62 846,-308.78\"/>\n<polygon fill=\"black\" stroke=\"black\" points=\"849.5,-308.67 846,-298.67 842.5,-308.67 849.5,-308.67\"/>\n</g>\n<!-- 18 -->\n<g id=\"node19\" class=\"node\">\n<title>18</title>\n<polygon fill=\"#e58139\" stroke=\"black\" points=\"1036.5,-298.5 919.5,-298.5 919.5,-230.5 1036.5,-230.5 1036.5,-298.5\"/>\n<text text-anchor=\"middle\" x=\"978\" y=\"-283.3\" font-family=\"Helvetica,sans-Serif\" font-size=\"14.00\">gini = 0.0</text>\n<text text-anchor=\"middle\" x=\"978\" y=\"-268.3\" font-family=\"Helvetica,sans-Serif\" font-size=\"14.00\">samples = 49</text>\n<text text-anchor=\"middle\" x=\"978\" y=\"-253.3\" font-family=\"Helvetica,sans-Serif\" font-size=\"14.00\">value = [49, 0, 0]</text>\n<text text-anchor=\"middle\" x=\"978\" y=\"-238.3\" font-family=\"Helvetica,sans-Serif\" font-size=\"14.00\">class = class_0</text>\n</g>\n<!-- 16&#45;&gt;18 -->\n<g id=\"edge18\" class=\"edge\">\n<title>16&#45;&gt;18</title>\n<path fill=\"none\" stroke=\"black\" d=\"M891.8,-341.91C905.12,-330.1 919.65,-317.22 932.93,-305.45\"/>\n<polygon fill=\"black\" stroke=\"black\" points=\"935.42,-307.92 940.58,-298.67 930.78,-302.68 935.42,-307.92\"/>\n</g>\n</g>\n</svg>\n",
            "text/plain": [
              "<graphviz.sources.Source at 0x7f66bdd8d270>"
            ]
          },
          "metadata": {},
          "execution_count": 25
        }
      ]
    },
    {
      "cell_type": "markdown",
      "metadata": {
        "id": "IIDx6Zyu4I_E"
      },
      "source": [
        "### 3.\n",
        "Используя полученную модель, сделайте прогноз для тестовой выборки данных и, пользуясь встроенной функцией score(), определите точность модели."
      ]
    },
    {
      "cell_type": "code",
      "source": [
        "tc_predictions = dtc.predict(x_test)\n",
        "tc_predictions"
      ],
      "metadata": {
        "colab": {
          "base_uri": "https://localhost:8080/"
        },
        "id": "lfA8puDTgofr",
        "outputId": "77d4346c-2bd2-4840-abcb-b481597766a3"
      },
      "execution_count": 26,
      "outputs": [
        {
          "output_type": "execute_result",
          "data": {
            "text/plain": [
              "array([1, 1, 1, 0, 2, 2, 0, 1, 2, 0, 2, 0, 1, 1, 2, 2, 2, 1, 1, 1, 1, 1,\n",
              "       0, 2, 1, 1, 0, 1, 2, 1, 2, 1, 0, 0, 2, 1])"
            ]
          },
          "metadata": {},
          "execution_count": 26
        }
      ]
    },
    {
      "cell_type": "code",
      "metadata": {
        "id": "1ldL9lLx4I_E",
        "colab": {
          "base_uri": "https://localhost:8080/"
        },
        "outputId": "828f145f-bf8c-4290-8eef-f5963f9e4c08"
      },
      "source": [
        "accuracy = dtc.score(x_test, y_test)\n",
        "print(f'Accuracy: {accuracy}')"
      ],
      "execution_count": 27,
      "outputs": [
        {
          "output_type": "stream",
          "name": "stdout",
          "text": [
            "Accuracy: 0.9722222222222222\n"
          ]
        }
      ]
    },
    {
      "cell_type": "markdown",
      "metadata": {
        "id": "iaZZ7PdZ4I_H"
      },
      "source": [
        "Теперь попробуем сделать начальную настройку гиперпараметров и посмотреть, что из этого выйдет. \n",
        "\n",
        "### 4.\n",
        "\n",
        "Постройте модель, указав гиперпараметр max_features равным 2 (так же указав random_state=17) и, сделав прогноз на тестовых данных, определите, стала ли модель работать точнее."
      ]
    },
    {
      "cell_type": "markdown",
      "metadata": {
        "id": "uuCNx_8J4I_I"
      },
      "source": [
        "*Примечание: гиперпараметр max_features показывает модели, сколько различных признаков необходимо использовать каждый раз при принятии решения о разделении. То есть если, допустим, у вас имеются 50 признаков, а max_features=10, то в каждом узле случайным образом выбираются 10 признаков, которые будут использоваться для поиска лучшего разделения.*"
      ]
    },
    {
      "cell_type": "code",
      "metadata": {
        "id": "YERr0LVB4I_J"
      },
      "source": [
        "dtc = DecisionTreeClassifier(max_features=2, random_state=17)\n",
        "dtc_model2 = dtc.fit(x_train, y_train)"
      ],
      "execution_count": 29,
      "outputs": []
    },
    {
      "cell_type": "code",
      "source": [
        "tc_predictions = dtc.predict(x_test)\n",
        "tc_predictions"
      ],
      "metadata": {
        "colab": {
          "base_uri": "https://localhost:8080/"
        },
        "id": "dZpNvyKZggNe",
        "outputId": "65f90eae-da84-462f-a42a-86daa8df1a42"
      },
      "execution_count": 30,
      "outputs": [
        {
          "output_type": "execute_result",
          "data": {
            "text/plain": [
              "array([1, 1, 1, 0, 2, 2, 0, 1, 2, 0, 2, 1, 1, 1, 2, 2, 1, 1, 1, 1, 1, 1,\n",
              "       0, 2, 1, 1, 0, 1, 2, 1, 2, 2, 0, 0, 2, 1])"
            ]
          },
          "metadata": {},
          "execution_count": 30
        }
      ]
    },
    {
      "cell_type": "code",
      "source": [
        "accuracy = dtc.score(x_test, y_test)\n",
        "print(f'Accuracy: {accuracy}')"
      ],
      "metadata": {
        "colab": {
          "base_uri": "https://localhost:8080/"
        },
        "id": "BfHdGozabF4O",
        "outputId": "52748057-d0fe-4027-89ab-49d592c98a64"
      },
      "execution_count": 31,
      "outputs": [
        {
          "output_type": "stream",
          "name": "stdout",
          "text": [
            "Accuracy: 0.9444444444444444\n"
          ]
        }
      ]
    },
    {
      "cell_type": "markdown",
      "metadata": {
        "id": "iqSAgyN64I_L"
      },
      "source": [
        "### 5.\n",
        "Теперь постройте граф дерева решений, используя graphviz."
      ]
    },
    {
      "cell_type": "code",
      "metadata": {
        "id": "0TsyA7zi4I_M",
        "colab": {
          "base_uri": "https://localhost:8080/",
          "height": 1000
        },
        "outputId": "d1e97d69-603c-4f12-d031-5a5aae89eca1"
      },
      "source": [
        "print_graph(dtc_model2)"
      ],
      "execution_count": 32,
      "outputs": [
        {
          "output_type": "execute_result",
          "data": {
            "image/svg+xml": "<?xml version=\"1.0\" encoding=\"UTF-8\" standalone=\"no\"?>\n<!DOCTYPE svg PUBLIC \"-//W3C//DTD SVG 1.1//EN\"\n \"http://www.w3.org/Graphics/SVG/1.1/DTD/svg11.dtd\">\n<!-- Generated by graphviz version 2.43.0 (0)\n -->\n<!-- Title: Tree Pages: 1 -->\n<svg width=\"1067pt\" height=\"909pt\"\n viewBox=\"0.00 0.00 1067.00 909.00\" xmlns=\"http://www.w3.org/2000/svg\" xmlns:xlink=\"http://www.w3.org/1999/xlink\">\n<g id=\"graph0\" class=\"graph\" transform=\"scale(1 1) rotate(0) translate(4 905)\">\n<title>Tree</title>\n<polygon fill=\"white\" stroke=\"transparent\" points=\"-4,4 -4,-905 1063,-905 1063,4 -4,4\"/>\n<!-- 0 -->\n<g id=\"node1\" class=\"node\">\n<title>0</title>\n<polygon fill=\"#f6fef9\" stroke=\"black\" points=\"387.5,-901 234.5,-901 234.5,-818 387.5,-818 387.5,-901\"/>\n<text text-anchor=\"middle\" x=\"311\" y=\"-885.8\" font-family=\"Helvetica,sans-Serif\" font-size=\"14.00\">color_intensity &lt;= 3.46</text>\n<text text-anchor=\"middle\" x=\"311\" y=\"-870.8\" font-family=\"Helvetica,sans-Serif\" font-size=\"14.00\">gini = 0.657</text>\n<text text-anchor=\"middle\" x=\"311\" y=\"-855.8\" font-family=\"Helvetica,sans-Serif\" font-size=\"14.00\">samples = 142</text>\n<text text-anchor=\"middle\" x=\"311\" y=\"-840.8\" font-family=\"Helvetica,sans-Serif\" font-size=\"14.00\">value = [51, 55, 36]</text>\n<text text-anchor=\"middle\" x=\"311\" y=\"-825.8\" font-family=\"Helvetica,sans-Serif\" font-size=\"14.00\">class = class_1</text>\n</g>\n<!-- 1 -->\n<g id=\"node2\" class=\"node\">\n<title>1</title>\n<polygon fill=\"#39e581\" stroke=\"black\" points=\"292.5,-774.5 175.5,-774.5 175.5,-706.5 292.5,-706.5 292.5,-774.5\"/>\n<text text-anchor=\"middle\" x=\"234\" y=\"-759.3\" font-family=\"Helvetica,sans-Serif\" font-size=\"14.00\">gini = 0.0</text>\n<text text-anchor=\"middle\" x=\"234\" y=\"-744.3\" font-family=\"Helvetica,sans-Serif\" font-size=\"14.00\">samples = 42</text>\n<text text-anchor=\"middle\" x=\"234\" y=\"-729.3\" font-family=\"Helvetica,sans-Serif\" font-size=\"14.00\">value = [0, 42, 0]</text>\n<text text-anchor=\"middle\" x=\"234\" y=\"-714.3\" font-family=\"Helvetica,sans-Serif\" font-size=\"14.00\">class = class_1</text>\n</g>\n<!-- 0&#45;&gt;1 -->\n<g id=\"edge1\" class=\"edge\">\n<title>0&#45;&gt;1</title>\n<path fill=\"none\" stroke=\"black\" d=\"M284.29,-817.91C276.88,-806.65 268.83,-794.42 261.38,-783.11\"/>\n<polygon fill=\"black\" stroke=\"black\" points=\"264.25,-781.1 255.83,-774.67 258.4,-784.94 264.25,-781.1\"/>\n<text text-anchor=\"middle\" x=\"250.78\" y=\"-795.45\" font-family=\"Helvetica,sans-Serif\" font-size=\"14.00\">True</text>\n</g>\n<!-- 2 -->\n<g id=\"node3\" class=\"node\">\n<title>2</title>\n<polygon fill=\"#f9e1d1\" stroke=\"black\" points=\"465.5,-782 310.5,-782 310.5,-699 465.5,-699 465.5,-782\"/>\n<text text-anchor=\"middle\" x=\"388\" y=\"-766.8\" font-family=\"Helvetica,sans-Serif\" font-size=\"14.00\">total_phenols &lt;= 2.335</text>\n<text text-anchor=\"middle\" x=\"388\" y=\"-751.8\" font-family=\"Helvetica,sans-Serif\" font-size=\"14.00\">gini = 0.593</text>\n<text text-anchor=\"middle\" x=\"388\" y=\"-736.8\" font-family=\"Helvetica,sans-Serif\" font-size=\"14.00\">samples = 100</text>\n<text text-anchor=\"middle\" x=\"388\" y=\"-721.8\" font-family=\"Helvetica,sans-Serif\" font-size=\"14.00\">value = [51, 13, 36]</text>\n<text text-anchor=\"middle\" x=\"388\" y=\"-706.8\" font-family=\"Helvetica,sans-Serif\" font-size=\"14.00\">class = class_0</text>\n</g>\n<!-- 0&#45;&gt;2 -->\n<g id=\"edge2\" class=\"edge\">\n<title>0&#45;&gt;2</title>\n<path fill=\"none\" stroke=\"black\" d=\"M337.71,-817.91C343.51,-809.1 349.7,-799.7 355.68,-790.61\"/>\n<polygon fill=\"black\" stroke=\"black\" points=\"358.76,-792.3 361.33,-782.02 352.91,-788.45 358.76,-792.3\"/>\n<text text-anchor=\"middle\" x=\"366.38\" y=\"-802.81\" font-family=\"Helvetica,sans-Serif\" font-size=\"14.00\">False</text>\n</g>\n<!-- 3 -->\n<g id=\"node4\" class=\"node\">\n<title>3</title>\n<polygon fill=\"#9a61ea\" stroke=\"black\" points=\"373.5,-663 256.5,-663 256.5,-580 373.5,-580 373.5,-663\"/>\n<text text-anchor=\"middle\" x=\"315\" y=\"-647.8\" font-family=\"Helvetica,sans-Serif\" font-size=\"14.00\">proline &lt;= 517.5</text>\n<text text-anchor=\"middle\" x=\"315\" y=\"-632.8\" font-family=\"Helvetica,sans-Serif\" font-size=\"14.00\">gini = 0.278</text>\n<text text-anchor=\"middle\" x=\"315\" y=\"-617.8\" font-family=\"Helvetica,sans-Serif\" font-size=\"14.00\">samples = 42</text>\n<text text-anchor=\"middle\" x=\"315\" y=\"-602.8\" font-family=\"Helvetica,sans-Serif\" font-size=\"14.00\">value = [0, 7, 35]</text>\n<text text-anchor=\"middle\" x=\"315\" y=\"-587.8\" font-family=\"Helvetica,sans-Serif\" font-size=\"14.00\">class = class_2</text>\n</g>\n<!-- 2&#45;&gt;3 -->\n<g id=\"edge3\" class=\"edge\">\n<title>2&#45;&gt;3</title>\n<path fill=\"none\" stroke=\"black\" d=\"M362.67,-698.91C357.18,-690.1 351.31,-680.7 345.64,-671.61\"/>\n<polygon fill=\"black\" stroke=\"black\" points=\"348.55,-669.65 340.28,-663.02 342.61,-673.36 348.55,-669.65\"/>\n</g>\n<!-- 10 -->\n<g id=\"node11\" class=\"node\">\n<title>10</title>\n<polygon fill=\"#e89254\" stroke=\"black\" points=\"530,-663 392,-663 392,-580 530,-580 530,-663\"/>\n<text text-anchor=\"middle\" x=\"461\" y=\"-647.8\" font-family=\"Helvetica,sans-Serif\" font-size=\"14.00\">magnesium &lt;= 88.5</text>\n<text text-anchor=\"middle\" x=\"461\" y=\"-632.8\" font-family=\"Helvetica,sans-Serif\" font-size=\"14.00\">gini = 0.216</text>\n<text text-anchor=\"middle\" x=\"461\" y=\"-617.8\" font-family=\"Helvetica,sans-Serif\" font-size=\"14.00\">samples = 58</text>\n<text text-anchor=\"middle\" x=\"461\" y=\"-602.8\" font-family=\"Helvetica,sans-Serif\" font-size=\"14.00\">value = [51, 6, 1]</text>\n<text text-anchor=\"middle\" x=\"461\" y=\"-587.8\" font-family=\"Helvetica,sans-Serif\" font-size=\"14.00\">class = class_0</text>\n</g>\n<!-- 2&#45;&gt;10 -->\n<g id=\"edge10\" class=\"edge\">\n<title>2&#45;&gt;10</title>\n<path fill=\"none\" stroke=\"black\" d=\"M413.33,-698.91C418.82,-690.1 424.69,-680.7 430.36,-671.61\"/>\n<polygon fill=\"black\" stroke=\"black\" points=\"433.39,-673.36 435.72,-663.02 427.45,-669.65 433.39,-673.36\"/>\n</g>\n<!-- 4 -->\n<g id=\"node5\" class=\"node\">\n<title>4</title>\n<polygon fill=\"#bdf6d5\" stroke=\"black\" points=\"236,-544 126,-544 126,-461 236,-461 236,-544\"/>\n<text text-anchor=\"middle\" x=\"181\" y=\"-528.8\" font-family=\"Helvetica,sans-Serif\" font-size=\"14.00\">hue &lt;= 0.725</text>\n<text text-anchor=\"middle\" x=\"181\" y=\"-513.8\" font-family=\"Helvetica,sans-Serif\" font-size=\"14.00\">gini = 0.48</text>\n<text text-anchor=\"middle\" x=\"181\" y=\"-498.8\" font-family=\"Helvetica,sans-Serif\" font-size=\"14.00\">samples = 10</text>\n<text text-anchor=\"middle\" x=\"181\" y=\"-483.8\" font-family=\"Helvetica,sans-Serif\" font-size=\"14.00\">value = [0, 6, 4]</text>\n<text text-anchor=\"middle\" x=\"181\" y=\"-468.8\" font-family=\"Helvetica,sans-Serif\" font-size=\"14.00\">class = class_1</text>\n</g>\n<!-- 3&#45;&gt;4 -->\n<g id=\"edge4\" class=\"edge\">\n<title>3&#45;&gt;4</title>\n<path fill=\"none\" stroke=\"black\" d=\"M268.51,-579.91C257.7,-570.47 246.1,-560.34 235,-550.65\"/>\n<polygon fill=\"black\" stroke=\"black\" points=\"237.24,-547.96 227.41,-544.02 232.64,-553.23 237.24,-547.96\"/>\n</g>\n<!-- 7 -->\n<g id=\"node8\" class=\"node\">\n<title>7</title>\n<polygon fill=\"#853fe6\" stroke=\"black\" points=\"382,-544 254,-544 254,-461 382,-461 382,-544\"/>\n<text text-anchor=\"middle\" x=\"318\" y=\"-528.8\" font-family=\"Helvetica,sans-Serif\" font-size=\"14.00\">flavanoids &lt;= 1.59</text>\n<text text-anchor=\"middle\" x=\"318\" y=\"-513.8\" font-family=\"Helvetica,sans-Serif\" font-size=\"14.00\">gini = 0.061</text>\n<text text-anchor=\"middle\" x=\"318\" y=\"-498.8\" font-family=\"Helvetica,sans-Serif\" font-size=\"14.00\">samples = 32</text>\n<text text-anchor=\"middle\" x=\"318\" y=\"-483.8\" font-family=\"Helvetica,sans-Serif\" font-size=\"14.00\">value = [0, 1, 31]</text>\n<text text-anchor=\"middle\" x=\"318\" y=\"-468.8\" font-family=\"Helvetica,sans-Serif\" font-size=\"14.00\">class = class_2</text>\n</g>\n<!-- 3&#45;&gt;7 -->\n<g id=\"edge7\" class=\"edge\">\n<title>3&#45;&gt;7</title>\n<path fill=\"none\" stroke=\"black\" d=\"M316.04,-579.91C316.25,-571.56 316.48,-562.67 316.7,-554.02\"/>\n<polygon fill=\"black\" stroke=\"black\" points=\"320.2,-554.11 316.96,-544.02 313.21,-553.93 320.2,-554.11\"/>\n</g>\n<!-- 5 -->\n<g id=\"node6\" class=\"node\">\n<title>5</title>\n<polygon fill=\"#8139e5\" stroke=\"black\" points=\"110,-417.5 0,-417.5 0,-349.5 110,-349.5 110,-417.5\"/>\n<text text-anchor=\"middle\" x=\"55\" y=\"-402.3\" font-family=\"Helvetica,sans-Serif\" font-size=\"14.00\">gini = 0.0</text>\n<text text-anchor=\"middle\" x=\"55\" y=\"-387.3\" font-family=\"Helvetica,sans-Serif\" font-size=\"14.00\">samples = 4</text>\n<text text-anchor=\"middle\" x=\"55\" y=\"-372.3\" font-family=\"Helvetica,sans-Serif\" font-size=\"14.00\">value = [0, 0, 4]</text>\n<text text-anchor=\"middle\" x=\"55\" y=\"-357.3\" font-family=\"Helvetica,sans-Serif\" font-size=\"14.00\">class = class_2</text>\n</g>\n<!-- 4&#45;&gt;5 -->\n<g id=\"edge5\" class=\"edge\">\n<title>4&#45;&gt;5</title>\n<path fill=\"none\" stroke=\"black\" d=\"M137.28,-460.91C124.69,-449.21 110.95,-436.46 98.38,-424.78\"/>\n<polygon fill=\"black\" stroke=\"black\" points=\"100.43,-421.91 90.72,-417.67 95.66,-427.04 100.43,-421.91\"/>\n</g>\n<!-- 6 -->\n<g id=\"node7\" class=\"node\">\n<title>6</title>\n<polygon fill=\"#39e581\" stroke=\"black\" points=\"238,-417.5 128,-417.5 128,-349.5 238,-349.5 238,-417.5\"/>\n<text text-anchor=\"middle\" x=\"183\" y=\"-402.3\" font-family=\"Helvetica,sans-Serif\" font-size=\"14.00\">gini = 0.0</text>\n<text text-anchor=\"middle\" x=\"183\" y=\"-387.3\" font-family=\"Helvetica,sans-Serif\" font-size=\"14.00\">samples = 6</text>\n<text text-anchor=\"middle\" x=\"183\" y=\"-372.3\" font-family=\"Helvetica,sans-Serif\" font-size=\"14.00\">value = [0, 6, 0]</text>\n<text text-anchor=\"middle\" x=\"183\" y=\"-357.3\" font-family=\"Helvetica,sans-Serif\" font-size=\"14.00\">class = class_1</text>\n</g>\n<!-- 4&#45;&gt;6 -->\n<g id=\"edge6\" class=\"edge\">\n<title>4&#45;&gt;6</title>\n<path fill=\"none\" stroke=\"black\" d=\"M181.69,-460.91C181.88,-450.2 182.07,-438.62 182.26,-427.78\"/>\n<polygon fill=\"black\" stroke=\"black\" points=\"185.76,-427.73 182.43,-417.67 178.76,-427.61 185.76,-427.73\"/>\n</g>\n<!-- 8 -->\n<g id=\"node9\" class=\"node\">\n<title>8</title>\n<polygon fill=\"#8139e5\" stroke=\"black\" points=\"375.5,-417.5 258.5,-417.5 258.5,-349.5 375.5,-349.5 375.5,-417.5\"/>\n<text text-anchor=\"middle\" x=\"317\" y=\"-402.3\" font-family=\"Helvetica,sans-Serif\" font-size=\"14.00\">gini = 0.0</text>\n<text text-anchor=\"middle\" x=\"317\" y=\"-387.3\" font-family=\"Helvetica,sans-Serif\" font-size=\"14.00\">samples = 31</text>\n<text text-anchor=\"middle\" x=\"317\" y=\"-372.3\" font-family=\"Helvetica,sans-Serif\" font-size=\"14.00\">value = [0, 0, 31]</text>\n<text text-anchor=\"middle\" x=\"317\" y=\"-357.3\" font-family=\"Helvetica,sans-Serif\" font-size=\"14.00\">class = class_2</text>\n</g>\n<!-- 7&#45;&gt;8 -->\n<g id=\"edge8\" class=\"edge\">\n<title>7&#45;&gt;8</title>\n<path fill=\"none\" stroke=\"black\" d=\"M317.65,-460.91C317.56,-450.2 317.46,-438.62 317.37,-427.78\"/>\n<polygon fill=\"black\" stroke=\"black\" points=\"320.87,-427.64 317.28,-417.67 313.87,-427.7 320.87,-427.64\"/>\n</g>\n<!-- 9 -->\n<g id=\"node10\" class=\"node\">\n<title>9</title>\n<polygon fill=\"#39e581\" stroke=\"black\" points=\"504,-417.5 394,-417.5 394,-349.5 504,-349.5 504,-417.5\"/>\n<text text-anchor=\"middle\" x=\"449\" y=\"-402.3\" font-family=\"Helvetica,sans-Serif\" font-size=\"14.00\">gini = 0.0</text>\n<text text-anchor=\"middle\" x=\"449\" y=\"-387.3\" font-family=\"Helvetica,sans-Serif\" font-size=\"14.00\">samples = 1</text>\n<text text-anchor=\"middle\" x=\"449\" y=\"-372.3\" font-family=\"Helvetica,sans-Serif\" font-size=\"14.00\">value = [0, 1, 0]</text>\n<text text-anchor=\"middle\" x=\"449\" y=\"-357.3\" font-family=\"Helvetica,sans-Serif\" font-size=\"14.00\">class = class_1</text>\n</g>\n<!-- 7&#45;&gt;9 -->\n<g id=\"edge9\" class=\"edge\">\n<title>7&#45;&gt;9</title>\n<path fill=\"none\" stroke=\"black\" d=\"M363.45,-460.91C376.67,-449.1 391.1,-436.22 404.27,-424.45\"/>\n<polygon fill=\"black\" stroke=\"black\" points=\"406.74,-426.94 411.86,-417.67 402.07,-421.72 406.74,-426.94\"/>\n</g>\n<!-- 11 -->\n<g id=\"node12\" class=\"node\">\n<title>11</title>\n<polygon fill=\"#39e581\" stroke=\"black\" points=\"514,-536.5 404,-536.5 404,-468.5 514,-468.5 514,-536.5\"/>\n<text text-anchor=\"middle\" x=\"459\" y=\"-521.3\" font-family=\"Helvetica,sans-Serif\" font-size=\"14.00\">gini = 0.0</text>\n<text text-anchor=\"middle\" x=\"459\" y=\"-506.3\" font-family=\"Helvetica,sans-Serif\" font-size=\"14.00\">samples = 4</text>\n<text text-anchor=\"middle\" x=\"459\" y=\"-491.3\" font-family=\"Helvetica,sans-Serif\" font-size=\"14.00\">value = [0, 4, 0]</text>\n<text text-anchor=\"middle\" x=\"459\" y=\"-476.3\" font-family=\"Helvetica,sans-Serif\" font-size=\"14.00\">class = class_1</text>\n</g>\n<!-- 10&#45;&gt;11 -->\n<g id=\"edge11\" class=\"edge\">\n<title>10&#45;&gt;11</title>\n<path fill=\"none\" stroke=\"black\" d=\"M460.31,-579.91C460.12,-569.2 459.93,-557.62 459.74,-546.78\"/>\n<polygon fill=\"black\" stroke=\"black\" points=\"463.24,-546.61 459.57,-536.67 456.24,-546.73 463.24,-546.61\"/>\n</g>\n<!-- 12 -->\n<g id=\"node13\" class=\"node\">\n<title>12</title>\n<polygon fill=\"#e68844\" stroke=\"black\" points=\"663.5,-544 532.5,-544 532.5,-461 663.5,-461 663.5,-544\"/>\n<text text-anchor=\"middle\" x=\"598\" y=\"-528.8\" font-family=\"Helvetica,sans-Serif\" font-size=\"14.00\">malic_acid &lt;= 1.32</text>\n<text text-anchor=\"middle\" x=\"598\" y=\"-513.8\" font-family=\"Helvetica,sans-Serif\" font-size=\"14.00\">gini = 0.106</text>\n<text text-anchor=\"middle\" x=\"598\" y=\"-498.8\" font-family=\"Helvetica,sans-Serif\" font-size=\"14.00\">samples = 54</text>\n<text text-anchor=\"middle\" x=\"598\" y=\"-483.8\" font-family=\"Helvetica,sans-Serif\" font-size=\"14.00\">value = [51, 2, 1]</text>\n<text text-anchor=\"middle\" x=\"598\" y=\"-468.8\" font-family=\"Helvetica,sans-Serif\" font-size=\"14.00\">class = class_0</text>\n</g>\n<!-- 10&#45;&gt;12 -->\n<g id=\"edge12\" class=\"edge\">\n<title>10&#45;&gt;12</title>\n<path fill=\"none\" stroke=\"black\" d=\"M508.53,-579.91C519.58,-570.47 531.44,-560.34 542.79,-550.65\"/>\n<polygon fill=\"black\" stroke=\"black\" points=\"545.22,-553.18 550.55,-544.02 540.68,-547.85 545.22,-553.18\"/>\n</g>\n<!-- 13 -->\n<g id=\"node14\" class=\"node\">\n<title>13</title>\n<polygon fill=\"#39e581\" stroke=\"black\" points=\"643,-417.5 533,-417.5 533,-349.5 643,-349.5 643,-417.5\"/>\n<text text-anchor=\"middle\" x=\"588\" y=\"-402.3\" font-family=\"Helvetica,sans-Serif\" font-size=\"14.00\">gini = 0.0</text>\n<text text-anchor=\"middle\" x=\"588\" y=\"-387.3\" font-family=\"Helvetica,sans-Serif\" font-size=\"14.00\">samples = 1</text>\n<text text-anchor=\"middle\" x=\"588\" y=\"-372.3\" font-family=\"Helvetica,sans-Serif\" font-size=\"14.00\">value = [0, 1, 0]</text>\n<text text-anchor=\"middle\" x=\"588\" y=\"-357.3\" font-family=\"Helvetica,sans-Serif\" font-size=\"14.00\">class = class_1</text>\n</g>\n<!-- 12&#45;&gt;13 -->\n<g id=\"edge13\" class=\"edge\">\n<title>12&#45;&gt;13</title>\n<path fill=\"none\" stroke=\"black\" d=\"M594.53,-460.91C593.62,-450.2 592.63,-438.62 591.7,-427.78\"/>\n<polygon fill=\"black\" stroke=\"black\" points=\"595.17,-427.33 590.83,-417.67 588.2,-427.93 595.17,-427.33\"/>\n</g>\n<!-- 14 -->\n<g id=\"node15\" class=\"node\">\n<title>14</title>\n<polygon fill=\"#e68641\" stroke=\"black\" points=\"922.5,-425 661.5,-425 661.5,-342 922.5,-342 922.5,-425\"/>\n<text text-anchor=\"middle\" x=\"792\" y=\"-409.8\" font-family=\"Helvetica,sans-Serif\" font-size=\"14.00\">od280/od315_of_diluted_wines &lt;= 2.265</text>\n<text text-anchor=\"middle\" x=\"792\" y=\"-394.8\" font-family=\"Helvetica,sans-Serif\" font-size=\"14.00\">gini = 0.073</text>\n<text text-anchor=\"middle\" x=\"792\" y=\"-379.8\" font-family=\"Helvetica,sans-Serif\" font-size=\"14.00\">samples = 53</text>\n<text text-anchor=\"middle\" x=\"792\" y=\"-364.8\" font-family=\"Helvetica,sans-Serif\" font-size=\"14.00\">value = [51, 1, 1]</text>\n<text text-anchor=\"middle\" x=\"792\" y=\"-349.8\" font-family=\"Helvetica,sans-Serif\" font-size=\"14.00\">class = class_0</text>\n</g>\n<!-- 12&#45;&gt;14 -->\n<g id=\"edge14\" class=\"edge\">\n<title>12&#45;&gt;14</title>\n<path fill=\"none\" stroke=\"black\" d=\"M663.68,-461.89C680.44,-451.78 698.59,-440.84 715.82,-430.44\"/>\n<polygon fill=\"black\" stroke=\"black\" points=\"717.98,-433.23 724.74,-425.07 714.36,-427.23 717.98,-433.23\"/>\n</g>\n<!-- 15 -->\n<g id=\"node16\" class=\"node\">\n<title>15</title>\n<polygon fill=\"#8139e5\" stroke=\"black\" points=\"774,-298.5 664,-298.5 664,-230.5 774,-230.5 774,-298.5\"/>\n<text text-anchor=\"middle\" x=\"719\" y=\"-283.3\" font-family=\"Helvetica,sans-Serif\" font-size=\"14.00\">gini = 0.0</text>\n<text text-anchor=\"middle\" x=\"719\" y=\"-268.3\" font-family=\"Helvetica,sans-Serif\" font-size=\"14.00\">samples = 1</text>\n<text text-anchor=\"middle\" x=\"719\" y=\"-253.3\" font-family=\"Helvetica,sans-Serif\" font-size=\"14.00\">value = [0, 0, 1]</text>\n<text text-anchor=\"middle\" x=\"719\" y=\"-238.3\" font-family=\"Helvetica,sans-Serif\" font-size=\"14.00\">class = class_2</text>\n</g>\n<!-- 14&#45;&gt;15 -->\n<g id=\"edge15\" class=\"edge\">\n<title>14&#45;&gt;15</title>\n<path fill=\"none\" stroke=\"black\" d=\"M766.67,-341.91C759.72,-330.76 752.17,-318.66 745.17,-307.44\"/>\n<polygon fill=\"black\" stroke=\"black\" points=\"747.96,-305.3 739.69,-298.67 742.02,-309 747.96,-305.3\"/>\n</g>\n<!-- 16 -->\n<g id=\"node17\" class=\"node\">\n<title>16</title>\n<polygon fill=\"#e6833d\" stroke=\"black\" points=\"938,-306 792,-306 792,-223 938,-223 938,-306\"/>\n<text text-anchor=\"middle\" x=\"865\" y=\"-290.8\" font-family=\"Helvetica,sans-Serif\" font-size=\"14.00\">magnesium &lt;= 118.5</text>\n<text text-anchor=\"middle\" x=\"865\" y=\"-275.8\" font-family=\"Helvetica,sans-Serif\" font-size=\"14.00\">gini = 0.038</text>\n<text text-anchor=\"middle\" x=\"865\" y=\"-260.8\" font-family=\"Helvetica,sans-Serif\" font-size=\"14.00\">samples = 52</text>\n<text text-anchor=\"middle\" x=\"865\" y=\"-245.8\" font-family=\"Helvetica,sans-Serif\" font-size=\"14.00\">value = [51, 1, 0]</text>\n<text text-anchor=\"middle\" x=\"865\" y=\"-230.8\" font-family=\"Helvetica,sans-Serif\" font-size=\"14.00\">class = class_0</text>\n</g>\n<!-- 14&#45;&gt;16 -->\n<g id=\"edge16\" class=\"edge\">\n<title>14&#45;&gt;16</title>\n<path fill=\"none\" stroke=\"black\" d=\"M817.33,-341.91C822.82,-333.1 828.69,-323.7 834.36,-314.61\"/>\n<polygon fill=\"black\" stroke=\"black\" points=\"837.39,-316.36 839.72,-306.02 831.45,-312.65 837.39,-316.36\"/>\n</g>\n<!-- 17 -->\n<g id=\"node18\" class=\"node\">\n<title>17</title>\n<polygon fill=\"#e58139\" stroke=\"black\" points=\"848.5,-179.5 731.5,-179.5 731.5,-111.5 848.5,-111.5 848.5,-179.5\"/>\n<text text-anchor=\"middle\" x=\"790\" y=\"-164.3\" font-family=\"Helvetica,sans-Serif\" font-size=\"14.00\">gini = 0.0</text>\n<text text-anchor=\"middle\" x=\"790\" y=\"-149.3\" font-family=\"Helvetica,sans-Serif\" font-size=\"14.00\">samples = 46</text>\n<text text-anchor=\"middle\" x=\"790\" y=\"-134.3\" font-family=\"Helvetica,sans-Serif\" font-size=\"14.00\">value = [46, 0, 0]</text>\n<text text-anchor=\"middle\" x=\"790\" y=\"-119.3\" font-family=\"Helvetica,sans-Serif\" font-size=\"14.00\">class = class_0</text>\n</g>\n<!-- 16&#45;&gt;17 -->\n<g id=\"edge17\" class=\"edge\">\n<title>16&#45;&gt;17</title>\n<path fill=\"none\" stroke=\"black\" d=\"M838.98,-222.91C831.76,-211.65 823.92,-199.42 816.67,-188.11\"/>\n<polygon fill=\"black\" stroke=\"black\" points=\"819.6,-186.2 811.26,-179.67 813.71,-189.97 819.6,-186.2\"/>\n</g>\n<!-- 18 -->\n<g id=\"node19\" class=\"node\">\n<title>18</title>\n<polygon fill=\"#ea9a61\" stroke=\"black\" points=\"1013.5,-187 866.5,-187 866.5,-104 1013.5,-104 1013.5,-187\"/>\n<text text-anchor=\"middle\" x=\"940\" y=\"-171.8\" font-family=\"Helvetica,sans-Serif\" font-size=\"14.00\">total_phenols &lt;= 3.09</text>\n<text text-anchor=\"middle\" x=\"940\" y=\"-156.8\" font-family=\"Helvetica,sans-Serif\" font-size=\"14.00\">gini = 0.278</text>\n<text text-anchor=\"middle\" x=\"940\" y=\"-141.8\" font-family=\"Helvetica,sans-Serif\" font-size=\"14.00\">samples = 6</text>\n<text text-anchor=\"middle\" x=\"940\" y=\"-126.8\" font-family=\"Helvetica,sans-Serif\" font-size=\"14.00\">value = [5, 1, 0]</text>\n<text text-anchor=\"middle\" x=\"940\" y=\"-111.8\" font-family=\"Helvetica,sans-Serif\" font-size=\"14.00\">class = class_0</text>\n</g>\n<!-- 16&#45;&gt;18 -->\n<g id=\"edge18\" class=\"edge\">\n<title>16&#45;&gt;18</title>\n<path fill=\"none\" stroke=\"black\" d=\"M891.02,-222.91C896.66,-214.1 902.69,-204.7 908.52,-195.61\"/>\n<polygon fill=\"black\" stroke=\"black\" points=\"911.57,-197.33 914.03,-187.02 905.68,-193.55 911.57,-197.33\"/>\n</g>\n<!-- 19 -->\n<g id=\"node20\" class=\"node\">\n<title>19</title>\n<polygon fill=\"#e58139\" stroke=\"black\" points=\"931,-68 821,-68 821,0 931,0 931,-68\"/>\n<text text-anchor=\"middle\" x=\"876\" y=\"-52.8\" font-family=\"Helvetica,sans-Serif\" font-size=\"14.00\">gini = 0.0</text>\n<text text-anchor=\"middle\" x=\"876\" y=\"-37.8\" font-family=\"Helvetica,sans-Serif\" font-size=\"14.00\">samples = 5</text>\n<text text-anchor=\"middle\" x=\"876\" y=\"-22.8\" font-family=\"Helvetica,sans-Serif\" font-size=\"14.00\">value = [5, 0, 0]</text>\n<text text-anchor=\"middle\" x=\"876\" y=\"-7.8\" font-family=\"Helvetica,sans-Serif\" font-size=\"14.00\">class = class_0</text>\n</g>\n<!-- 18&#45;&gt;19 -->\n<g id=\"edge19\" class=\"edge\">\n<title>18&#45;&gt;19</title>\n<path fill=\"none\" stroke=\"black\" d=\"M916.17,-103.73C911.1,-95.06 905.75,-85.9 900.65,-77.18\"/>\n<polygon fill=\"black\" stroke=\"black\" points=\"903.53,-75.17 895.46,-68.3 897.49,-78.7 903.53,-75.17\"/>\n</g>\n<!-- 20 -->\n<g id=\"node21\" class=\"node\">\n<title>20</title>\n<polygon fill=\"#39e581\" stroke=\"black\" points=\"1059,-68 949,-68 949,0 1059,0 1059,-68\"/>\n<text text-anchor=\"middle\" x=\"1004\" y=\"-52.8\" font-family=\"Helvetica,sans-Serif\" font-size=\"14.00\">gini = 0.0</text>\n<text text-anchor=\"middle\" x=\"1004\" y=\"-37.8\" font-family=\"Helvetica,sans-Serif\" font-size=\"14.00\">samples = 1</text>\n<text text-anchor=\"middle\" x=\"1004\" y=\"-22.8\" font-family=\"Helvetica,sans-Serif\" font-size=\"14.00\">value = [0, 1, 0]</text>\n<text text-anchor=\"middle\" x=\"1004\" y=\"-7.8\" font-family=\"Helvetica,sans-Serif\" font-size=\"14.00\">class = class_1</text>\n</g>\n<!-- 18&#45;&gt;20 -->\n<g id=\"edge20\" class=\"edge\">\n<title>18&#45;&gt;20</title>\n<path fill=\"none\" stroke=\"black\" d=\"M963.83,-103.73C968.9,-95.06 974.25,-85.9 979.35,-77.18\"/>\n<polygon fill=\"black\" stroke=\"black\" points=\"982.51,-78.7 984.54,-68.3 976.47,-75.17 982.51,-78.7\"/>\n</g>\n</g>\n</svg>\n",
            "text/plain": [
              "<graphviz.sources.Source at 0x7f668b4323b0>"
            ]
          },
          "metadata": {},
          "execution_count": 32
        }
      ]
    },
    {
      "cell_type": "markdown",
      "metadata": {
        "id": "XLY2b9Zj4I_R"
      },
      "source": [
        "Модель работает точнее, чем без настройки гиперпараметров, но по графу можно увидеть, что глубина дерева увеличилась, при этом в нескольких листах присутствует только по одному объекту, из-за чего на тестовом наборе данных дерево могло несколько потерять обобщающую способность."
      ]
    },
    {
      "cell_type": "markdown",
      "metadata": {
        "id": "Sn5AqeBa4I_S"
      },
      "source": [
        "Так как главная задача модели - способность обобщаться на новые данные, то для подбора оптимальных гиперпараметров надо пожертвовать небольшой порцией данных, чтобы на ней во время обучения проверять качество модели.\n",
        "\n",
        "Часто для этого используют кросс-валидацию: модель обучается K раз на (K-1) подвыборках исходной выборки, а на одной подвыборке проверяется (каждый раз на разной). Получаются K оценок качества модели, которые обычно усредняются, давая среднюю оценку.\n",
        "\n",
        "Кросс-валидация применяется для подбора гиперпараметров модели в методе GridSearchCV(): для каждой уникальной совокупности значений параметров проводится кросс-валидация и выбирается лучшее сочетание параметров."
      ]
    },
    {
      "cell_type": "markdown",
      "metadata": {
        "id": "B44jm6in4I_T"
      },
      "source": [
        "### 6.\n",
        "Используя обученное в предыдущем задании дерево решений, настройте параметры max_depth и max_features на 5-кратной валидации с помощью GridSearchCV. Для этого в функцию GridSearchCV передайте параметры (tree, tree_params, cv=5).\n",
        "\n",
        "*Примечание: tree здесь - не обученная модель, а объект, который инкапсулирует алгоритм. Например, в уроке мы его обозначали как dtc.*"
      ]
    },
    {
      "cell_type": "code",
      "metadata": {
        "id": "ZsXG1rh64I_X"
      },
      "source": [
        "tree_params = {'max_depth': range(1, 6), \n",
        "               'max_features': range(1, 10)}\n",
        "\n",
        "tree_grid = GridSearchCV(dtc, tree_params, cv=5)"
      ],
      "execution_count": 33,
      "outputs": []
    },
    {
      "cell_type": "markdown",
      "metadata": {
        "id": "tRPqIdCD4I_a"
      },
      "source": [
        "### 7.\n",
        "С помощью метода tree_grid.fit() постройте модель на тренировочных данных и выведите лучшее сочетание параметров с помощью метода tree_grid.best_params_."
      ]
    },
    {
      "cell_type": "code",
      "metadata": {
        "id": "JHVTQPfV4I_a",
        "colab": {
          "base_uri": "https://localhost:8080/"
        },
        "outputId": "f5d1f2b9-9d70-4cb1-8ac5-0e08d9c5156d"
      },
      "source": [
        "tree_grid.fit(x_train, y_train)\n",
        "print(f'Best params: {tree_grid.best_params_}')"
      ],
      "execution_count": 34,
      "outputs": [
        {
          "output_type": "stream",
          "name": "stdout",
          "text": [
            "Best params: {'max_depth': 5, 'max_features': 2}\n"
          ]
        }
      ]
    },
    {
      "cell_type": "markdown",
      "metadata": {
        "id": "p5s_eukw4I_c"
      },
      "source": [
        "### 8.\n",
        "С помощью полученной модели сделайте прогноз - predict - для тестовой выборки и выведите долю верных ответов, проверив точность модели, используя функцию accuracy_score."
      ]
    },
    {
      "cell_type": "code",
      "metadata": {
        "id": "9N55pj4y4I_g",
        "colab": {
          "base_uri": "https://localhost:8080/"
        },
        "outputId": "cc988fbf-bf6e-49ef-d015-82daf48d7b73"
      },
      "source": [
        "predicted = tree_grid.predict(x_test)\n",
        "accuracy = accuracy_score(predicted, y_test)\n",
        "print(f'Accuracy: {accuracy}')"
      ],
      "execution_count": 35,
      "outputs": [
        {
          "output_type": "stream",
          "name": "stdout",
          "text": [
            "Accuracy: 0.9444444444444444\n"
          ]
        }
      ]
    }
  ]
}