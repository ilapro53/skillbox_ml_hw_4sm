{
  "nbformat": 4,
  "nbformat_minor": 0,
  "metadata": {
    "colab": {
      "provenance": []
    },
    "kernelspec": {
      "display_name": "Python 3",
      "language": "python",
      "name": "python3"
    },
    "language_info": {
      "codemirror_mode": {
        "name": "ipython",
        "version": 3
      },
      "file_extension": ".py",
      "mimetype": "text/x-python",
      "name": "python",
      "nbconvert_exporter": "python",
      "pygments_lexer": "ipython3",
      "version": "3.6.3"
    }
  },
  "cells": [
    {
      "cell_type": "code",
      "source": [
        "import numpy as np\n",
        "from numpy.linalg import inv\n",
        "import pandas as pd\n",
        "\n",
        "from sklearn.preprocessing import StandardScaler\n",
        "from sklearn.model_selection import train_test_split\n",
        "from sklearn.linear_model import LinearRegression\n",
        "from sklearn.metrics import mean_squared_error, r2_score\n",
        "\n",
        "import matplotlib.pyplot as plt"
      ],
      "metadata": {
        "id": "jbdDCSIoSNtB"
      },
      "execution_count": 1,
      "outputs": []
    },
    {
      "cell_type": "markdown",
      "metadata": {
        "id": "cisB24TazhU2"
      },
      "source": [
        "### Домашняя работа\n",
        "\n",
        "**Задание простого уровня** Мы говорили, что метрики качества нужны, чтобы сравнивать различные модели между собой. В задаче полиномиальной регрессии реализуйте код для выбора лучшей степени полиному:\n",
        "\n",
        "* возьмите все степени от 1 до 10 по порядку, без пропусков.\n",
        "* найдите степень полинома, где будет лучший r2-score\n",
        "* напишите код, который выводит самую подходящую степень полинома и соответствующий ей скор\n",
        "\n",
        "Эта процедура называется Grid Search и помогает найти лучшие параметры для модели.\n",
        "\n",
        "Обучите лучшую модель и сделайте predict"
      ]
    },
    {
      "cell_type": "code",
      "source": [
        "def generate_degrees(source_data, degree: int):\n",
        "    source_data = pd.DataFrame(source_data)\n",
        "    new_data = pd.DataFrame()\n",
        "\n",
        "    cols = source_data.columns\n",
        "\n",
        "    for n in range(1, degree + 1):\n",
        "      new_cols = [f'{name}^{n}' for name in cols]\n",
        "      new_data[new_cols] = source_data.copy()**n\n",
        "\n",
        "    return new_data\n",
        "\n",
        "def test_polynomial(data, target, degree, random_state=42):\n",
        "\n",
        "    X = generate_degrees(data, degree)\n",
        "    y = target\n",
        "\n",
        "    x_train, x_test, y_train, y_test = train_test_split(X, y, \n",
        "                                                        train_size=0.8, \n",
        "                                                        random_state=random_state)\n",
        "\n",
        "    model = LinearRegression().fit(x_train, y_train)\n",
        "    y_pred = model.predict(x_test)\n",
        "\n",
        "    score = r2_score(y_test, y_pred)\n",
        "\n",
        "    return score, model\n",
        "\n",
        "def search_best_polynomial_degree(data, target, \n",
        "                                  min_degree: int, max_degree: int,\n",
        "                                  return_best_score=False,\n",
        "                                  random_state=42):\n",
        "  \n",
        "  best_score, best_degree = -np.inf, None\n",
        "\n",
        "  for degree in range(min_degree, max_degree+1):\n",
        "    score, model = test_polynomial(data=data, \n",
        "                                   target=target,\n",
        "                                   degree=degree,\n",
        "                                   random_state=random_state)\n",
        "\n",
        "    if score > best_score:\n",
        "      best_score, best_degree = score, degree\n",
        "  \n",
        "  if return_best_score:\n",
        "    return best_degree, best_score\n",
        "  else:\n",
        "    return best_degree"
      ],
      "metadata": {
        "id": "FtPR5uitSG2M"
      },
      "execution_count": 2,
      "outputs": []
    },
    {
      "cell_type": "code",
      "source": [
        "data = pd.read_csv('data/non_linear.csv', sep=',')\n",
        "data.head()"
      ],
      "metadata": {
        "colab": {
          "base_uri": "https://localhost:8080/",
          "height": 206
        },
        "id": "yAKpaSmIZP-D",
        "outputId": "78ee352e-5196-4d9d-c633-4014a786cad9"
      },
      "execution_count": 3,
      "outputs": [
        {
          "output_type": "execute_result",
          "data": {
            "text/plain": [
              "    x_train   y_train\n",
              "0  0.138368  0.838812\n",
              "1  0.157237  0.889313\n",
              "2  0.188684  1.430040\n",
              "3  0.685553  1.717309\n",
              "4  0.874237  2.032588"
            ],
            "text/html": [
              "\n",
              "  <div id=\"df-2b242f09-a8f0-435a-a713-fe19c48bc6ab\">\n",
              "    <div class=\"colab-df-container\">\n",
              "      <div>\n",
              "<style scoped>\n",
              "    .dataframe tbody tr th:only-of-type {\n",
              "        vertical-align: middle;\n",
              "    }\n",
              "\n",
              "    .dataframe tbody tr th {\n",
              "        vertical-align: top;\n",
              "    }\n",
              "\n",
              "    .dataframe thead th {\n",
              "        text-align: right;\n",
              "    }\n",
              "</style>\n",
              "<table border=\"1\" class=\"dataframe\">\n",
              "  <thead>\n",
              "    <tr style=\"text-align: right;\">\n",
              "      <th></th>\n",
              "      <th>x_train</th>\n",
              "      <th>y_train</th>\n",
              "    </tr>\n",
              "  </thead>\n",
              "  <tbody>\n",
              "    <tr>\n",
              "      <th>0</th>\n",
              "      <td>0.138368</td>\n",
              "      <td>0.838812</td>\n",
              "    </tr>\n",
              "    <tr>\n",
              "      <th>1</th>\n",
              "      <td>0.157237</td>\n",
              "      <td>0.889313</td>\n",
              "    </tr>\n",
              "    <tr>\n",
              "      <th>2</th>\n",
              "      <td>0.188684</td>\n",
              "      <td>1.430040</td>\n",
              "    </tr>\n",
              "    <tr>\n",
              "      <th>3</th>\n",
              "      <td>0.685553</td>\n",
              "      <td>1.717309</td>\n",
              "    </tr>\n",
              "    <tr>\n",
              "      <th>4</th>\n",
              "      <td>0.874237</td>\n",
              "      <td>2.032588</td>\n",
              "    </tr>\n",
              "  </tbody>\n",
              "</table>\n",
              "</div>\n",
              "      <button class=\"colab-df-convert\" onclick=\"convertToInteractive('df-2b242f09-a8f0-435a-a713-fe19c48bc6ab')\"\n",
              "              title=\"Convert this dataframe to an interactive table.\"\n",
              "              style=\"display:none;\">\n",
              "        \n",
              "  <svg xmlns=\"http://www.w3.org/2000/svg\" height=\"24px\"viewBox=\"0 0 24 24\"\n",
              "       width=\"24px\">\n",
              "    <path d=\"M0 0h24v24H0V0z\" fill=\"none\"/>\n",
              "    <path d=\"M18.56 5.44l.94 2.06.94-2.06 2.06-.94-2.06-.94-.94-2.06-.94 2.06-2.06.94zm-11 1L8.5 8.5l.94-2.06 2.06-.94-2.06-.94L8.5 2.5l-.94 2.06-2.06.94zm10 10l.94 2.06.94-2.06 2.06-.94-2.06-.94-.94-2.06-.94 2.06-2.06.94z\"/><path d=\"M17.41 7.96l-1.37-1.37c-.4-.4-.92-.59-1.43-.59-.52 0-1.04.2-1.43.59L10.3 9.45l-7.72 7.72c-.78.78-.78 2.05 0 2.83L4 21.41c.39.39.9.59 1.41.59.51 0 1.02-.2 1.41-.59l7.78-7.78 2.81-2.81c.8-.78.8-2.07 0-2.86zM5.41 20L4 18.59l7.72-7.72 1.47 1.35L5.41 20z\"/>\n",
              "  </svg>\n",
              "      </button>\n",
              "      \n",
              "  <style>\n",
              "    .colab-df-container {\n",
              "      display:flex;\n",
              "      flex-wrap:wrap;\n",
              "      gap: 12px;\n",
              "    }\n",
              "\n",
              "    .colab-df-convert {\n",
              "      background-color: #E8F0FE;\n",
              "      border: none;\n",
              "      border-radius: 50%;\n",
              "      cursor: pointer;\n",
              "      display: none;\n",
              "      fill: #1967D2;\n",
              "      height: 32px;\n",
              "      padding: 0 0 0 0;\n",
              "      width: 32px;\n",
              "    }\n",
              "\n",
              "    .colab-df-convert:hover {\n",
              "      background-color: #E2EBFA;\n",
              "      box-shadow: 0px 1px 2px rgba(60, 64, 67, 0.3), 0px 1px 3px 1px rgba(60, 64, 67, 0.15);\n",
              "      fill: #174EA6;\n",
              "    }\n",
              "\n",
              "    [theme=dark] .colab-df-convert {\n",
              "      background-color: #3B4455;\n",
              "      fill: #D2E3FC;\n",
              "    }\n",
              "\n",
              "    [theme=dark] .colab-df-convert:hover {\n",
              "      background-color: #434B5C;\n",
              "      box-shadow: 0px 1px 3px 1px rgba(0, 0, 0, 0.15);\n",
              "      filter: drop-shadow(0px 1px 2px rgba(0, 0, 0, 0.3));\n",
              "      fill: #FFFFFF;\n",
              "    }\n",
              "  </style>\n",
              "\n",
              "      <script>\n",
              "        const buttonEl =\n",
              "          document.querySelector('#df-2b242f09-a8f0-435a-a713-fe19c48bc6ab button.colab-df-convert');\n",
              "        buttonEl.style.display =\n",
              "          google.colab.kernel.accessAllowed ? 'block' : 'none';\n",
              "\n",
              "        async function convertToInteractive(key) {\n",
              "          const element = document.querySelector('#df-2b242f09-a8f0-435a-a713-fe19c48bc6ab');\n",
              "          const dataTable =\n",
              "            await google.colab.kernel.invokeFunction('convertToInteractive',\n",
              "                                                     [key], {});\n",
              "          if (!dataTable) return;\n",
              "\n",
              "          const docLinkHtml = 'Like what you see? Visit the ' +\n",
              "            '<a target=\"_blank\" href=https://colab.research.google.com/notebooks/data_table.ipynb>data table notebook</a>'\n",
              "            + ' to learn more about interactive tables.';\n",
              "          element.innerHTML = '';\n",
              "          dataTable['output_type'] = 'display_data';\n",
              "          await google.colab.output.renderOutput(dataTable, element);\n",
              "          const docLink = document.createElement('div');\n",
              "          docLink.innerHTML = docLinkHtml;\n",
              "          element.appendChild(docLink);\n",
              "        }\n",
              "      </script>\n",
              "    </div>\n",
              "  </div>\n",
              "  "
            ]
          },
          "metadata": {},
          "execution_count": 3
        }
      ]
    },
    {
      "cell_type": "code",
      "source": [
        "margin = 0.3\n",
        "\n",
        "plt.scatter(data.x_train, data.y_train, 40, 'g', 'o', alpha=0.8, label='data')\n",
        "\n",
        "plt.xlim(data['x_train'].min() - margin, data['x_train'].max() + margin)\n",
        "plt.ylim(data['y_train'].min() - margin, data['y_train'].max() + margin)\n",
        "plt.legend(loc='upper right', prop={'size': 20})\n",
        "plt.xlabel('x')\n",
        "plt.ylabel('y')\n",
        "plt.show()"
      ],
      "metadata": {
        "colab": {
          "base_uri": "https://localhost:8080/",
          "height": 449
        },
        "id": "mRtzSiwwY3Zj",
        "outputId": "33735db1-7f0b-4094-a012-60d0951cf6aa"
      },
      "execution_count": 4,
      "outputs": [
        {
          "output_type": "display_data",
          "data": {
            "text/plain": [
              "<Figure size 640x480 with 1 Axes>"
            ],
            "image/png": "[encoded data removed]"
          },
          "metadata": {}
        }
      ]
    },
    {
      "cell_type": "code",
      "source": [
        "X = data[['x_train']]\n",
        "y = data['y_train']\n",
        "\n",
        "best_degree, best_score = search_best_polynomial_degree(X, y, 1, 10, \n",
        "                                                        return_best_score=True)\n",
        "\n",
        "print('best_degree={},\\n'\n",
        "      'best_score={}'\\\n",
        "      .format(best_degree, best_score))"
      ],
      "metadata": {
        "id": "gqsSOOeJHj33",
        "colab": {
          "base_uri": "https://localhost:8080/"
        },
        "outputId": "d59fd882-1df5-4bb1-f394-31d63f8f9fb6"
      },
      "execution_count": 5,
      "outputs": [
        {
          "output_type": "stream",
          "name": "stdout",
          "text": [
            "best_degree=8,\n",
            "best_score=0.9043458585467707\n"
          ]
        }
      ]
    },
    {
      "cell_type": "markdown",
      "metadata": {
        "id": "z3dSmlAFzhU9"
      },
      "source": [
        "\n",
        "**Задание среднего уровня** Напишите класс для обучения модели, который содержит:\n",
        "\n",
        "* функцию `.fit(X, y)` , которая принимает на вход массив фичей `X`, массив таргетов `y` и обучает коэффициенты регрессии. Код для обучения взять из первого урока модуля *Постановка ML задачи линейной регрессии*\n",
        "* функцию `.predict(X)`, которая по массиву фичей `X` возвращает массив предсказаний `y`\n",
        "\n",
        "Нужно использовать код для аналитически вычисляемых коэффициентов. \n",
        "\n",
        "Это задание позволит понять, как работает линейная регрессия \"внутри\" библиотечной реализации."
      ]
    },
    {
      "cell_type": "code",
      "metadata": {
        "id": "rayvZFx1zhU9"
      },
      "source": [
        "class CustomLinearReg:\n",
        "    def __init__(self):\n",
        "        self._weights = None\n",
        "    \n",
        "    def fit(self, X, y):\n",
        "        X = pd.DataFrame(X)\n",
        "        y = pd.DataFrame(y)\n",
        "\n",
        "        if X.shape != y.shape:\n",
        "          raise ValueError(\n",
        "              'X and y have different shape: {}, {}'\\\n",
        "              .format(X.shape, y.shape)\n",
        "            )\n",
        "          \n",
        "        wcol = 'w0'\n",
        "        if wcol in X.columns:\n",
        "          i = 0\n",
        "          while i in X.columns:\n",
        "            i += 1\n",
        "          \n",
        "          wcol = i\n",
        "\n",
        "        X_new = pd.DataFrame(columns=[wcol]+list(X.columns))\n",
        "\n",
        "        X_new[X.columns] = None\n",
        "        X_new[X.columns] = X[X.columns]\n",
        "        X_new[wcol] = 1.0\n",
        "\n",
        "        X = X_new\n",
        "\n",
        "        w = inv(\n",
        "          (X.T).dot(X)\n",
        "        ).dot(X.T).dot(y)\n",
        "        \n",
        "        self._weights = w\n",
        "    \n",
        "    def predict(self, X):\n",
        "      if self._weights is None:\n",
        "        raise Exception('model is not fitted')\n",
        "\n",
        "      X = pd.DataFrame(X)\n",
        "\n",
        "      Y_predict = self._weights[0][0] + self._weights[1][0]*X\n",
        "\n",
        "      return Y_predict"
      ],
      "execution_count": 6,
      "outputs": []
    },
    {
      "cell_type": "code",
      "source": [
        "model = CustomLinearReg()\n",
        "x_hw = [50, 60, 70, 100]\n",
        "y_hw = [10, 15, 40, 45]\n",
        "model.fit(x_hw, y_hw)"
      ],
      "metadata": {
        "id": "pduURlTN4XsM"
      },
      "execution_count": 7,
      "outputs": []
    },
    {
      "cell_type": "code",
      "source": [
        "margin = 10\n",
        "X_min = min(x_hw)-margin\n",
        "X_max = max(x_hw)+margin\n",
        "\n",
        "X_support = np.linspace(X_min, X_max, num=100)\n",
        "X_support = pd.DataFrame(X_support, columns = ['X'])\n",
        "\n",
        "Y_model = model.predict(X_support)"
      ],
      "metadata": {
        "id": "zFnwXW8R0KNY"
      },
      "execution_count": 8,
      "outputs": []
    },
    {
      "cell_type": "code",
      "source": [
        "plt.scatter(x_hw, y_hw, 40, 'g', 'o', alpha=0.8)\n",
        "plt.plot(X_support, Y_model);"
      ],
      "metadata": {
        "colab": {
          "base_uri": "https://localhost:8080/",
          "height": 430
        },
        "id": "_OPESGaezqan",
        "outputId": "b80a72bf-2ec1-4e44-8280-61b41857584f"
      },
      "execution_count": 9,
      "outputs": [
        {
          "output_type": "display_data",
          "data": {
            "text/plain": [
              "<Figure size 640x480 with 1 Axes>"
            ],
            "image/png": "[encoded data removed]"
          },
          "metadata": {}
        }
      ]
    },
    {
      "cell_type": "markdown",
      "metadata": {
        "id": "uwWP7aPOzhVA"
      },
      "source": [
        "**Задание высокого уровня**\n",
        "\n",
        "1. разделите датасет с домами Бостона из Урока 2 (таргет и фичи) на две части: в одной части 80% датасета (назовём train) в другой 20% (назовём valid) с помощью функции `train_test_split` из библиотеки `sklearn`\n",
        "1. обучите модель только на train датасете\n",
        "1. постройте предсказания valid датасете\n",
        "1. Посчитайте  `r2 score` на валидационном сете\n",
        "\n",
        "После этого примените к обеим датасетам z-преобразование и повторите шаги 2-4. Как изменилась метрика r2?\n",
        "\n",
        "Это задание поможет понять, как валидировать линейную регрессию (и другие модели) на отложенной выборке."
      ]
    },
    {
      "cell_type": "code",
      "metadata": {
        "id": "f6p8B0VB5mHa"
      },
      "source": [
        "data_url = \"http://lib.stat.cmu.edu/datasets/boston\"\n",
        "raw_df = pd.read_csv(data_url, sep=\"\\s+\", skiprows=22, header=None)\n",
        "data = np.hstack([raw_df.values[::2, :], raw_df.values[1::2, :2]])\n",
        "target = raw_df.values[1::2, 2]"
      ],
      "execution_count": 10,
      "outputs": []
    },
    {
      "cell_type": "code",
      "source": [
        "x_train, x_valid, y_train, y_valid = train_test_split(data, target, \n",
        "                                                    train_size=0.8, \n",
        "                                                    random_state=42)\n",
        "\n",
        "model = LinearRegression()\n",
        "model.fit(x_train, y_train);"
      ],
      "metadata": {
        "id": "YJaQfNwb6R0d"
      },
      "execution_count": 11,
      "outputs": []
    },
    {
      "cell_type": "code",
      "source": [
        "y_pred = model.predict(x_valid)\n",
        "score = r2_score(y_valid, y_pred)\n",
        "score"
      ],
      "metadata": {
        "colab": {
          "base_uri": "https://localhost:8080/"
        },
        "id": "AVK-5w2vIeBh",
        "outputId": "b4e5e984-6d72-4a70-ca34-10ba7f2436a1"
      },
      "execution_count": 12,
      "outputs": [
        {
          "output_type": "execute_result",
          "data": {
            "text/plain": [
              "0.6687594935356325"
            ]
          },
          "metadata": {},
          "execution_count": 12
        }
      ]
    },
    {
      "cell_type": "code",
      "source": [
        "std_scaler = StandardScaler()\n",
        "std_x_train = std_scaler.fit_transform(x_train)\n",
        "\n",
        "std_scaler = StandardScaler()\n",
        "std_x_valid = std_scaler.fit_transform(x_valid)"
      ],
      "metadata": {
        "id": "ZJQbptgEJlUP"
      },
      "execution_count": 19,
      "outputs": []
    },
    {
      "cell_type": "code",
      "source": [
        "model = LinearRegression()\n",
        "model.fit(std_x_train, y_train);"
      ],
      "metadata": {
        "id": "erRxntn6MOjw"
      },
      "execution_count": 20,
      "outputs": []
    },
    {
      "cell_type": "code",
      "source": [
        "y_pred = model.predict(std_x_valid)\n",
        "score = r2_score(y_valid, y_pred)\n",
        "score"
      ],
      "metadata": {
        "colab": {
          "base_uri": "https://localhost:8080/"
        },
        "id": "LTUtTz7MJzZP",
        "outputId": "b637865b-f09b-4c5e-e4db-6d83bf8a6201"
      },
      "execution_count": 21,
      "outputs": [
        {
          "output_type": "execute_result",
          "data": {
            "text/plain": [
              "0.6262727067493521"
            ]
          },
          "metadata": {},
          "execution_count": 21
        }
      ]
    },
    {
      "cell_type": "markdown",
      "source": [
        "*После преобразования значение метрики r2 ухудшилось*"
      ],
      "metadata": {
        "id": "FOZ4PcpjjjbX"
      }
    }
  ]
}