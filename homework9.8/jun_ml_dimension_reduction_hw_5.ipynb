{
  "nbformat": 4,
  "nbformat_minor": 0,
  "metadata": {
    "kernelspec": {
      "display_name": "Python 3",
      "language": "python",
      "name": "python3"
    },
    "language_info": {
      "codemirror_mode": {
        "name": "ipython",
        "version": 3
      },
      "file_extension": ".py",
      "mimetype": "text/x-python",
      "name": "python",
      "nbconvert_exporter": "python",
      "pygments_lexer": "ipython3",
      "version": "3.6.3"
    },
    "colab": {
      "provenance": []
    }
  },
  "cells": [
    {
      "cell_type": "markdown",
      "metadata": {
        "id": "q92frZ1hzNT3"
      },
      "source": [
        "## Урок 8. Домашнее задание \n",
        "### 8.1 Задание высокого уровня\n",
        "\n",
        "Давайте проверим, как t-sne может улучшить Ваши модели. Для начала загрузим данные и построим Baseline модель без преобразования входных данных"
      ]
    },
    {
      "cell_type": "code",
      "source": [
        "import pandas as pd\n",
        "from sklearn.decomposition import PCA\n",
        "from sklearn.manifold import TSNE"
      ],
      "metadata": {
        "id": "-5aO_VRQ4Bvi"
      },
      "execution_count": 5,
      "outputs": []
    },
    {
      "cell_type": "code",
      "metadata": {
        "id": "_gcQ-CQ3zNUQ"
      },
      "source": [
        "from sklearn.tree import DecisionTreeClassifier\n",
        "from sklearn.model_selection import train_test_split\n",
        "from sklearn.metrics import accuracy_score, roc_auc_score\n",
        "\n",
        "def eval_model(input_x, input_y):\n",
        "    \"\"\"Обучаем и валидируем модель\"\"\"\n",
        "    X_train, X_test, y_train, y_test = train_test_split(\n",
        "        input_x, input_y, test_size=.3, stratify=y, random_state=42\n",
        "    )\n",
        "    # Для примера возьмём неглубокое дерево решений\n",
        "    clf = DecisionTreeClassifier(max_depth=2, random_state=42)\n",
        "    clf.fit(X_train, y_train)\n",
        "    preds = clf.predict_proba(X_test)\n",
        "    acc_score = accuracy_score(y_test, preds.argmax(axis=1))\n",
        "    print('Accuracy: %.5f' % acc_score)\n",
        "    \n",
        "df_source = pd.read_csv('client_segmentation.csv')\n",
        "X = df_source[['call_diff','sms_diff','traffic_diff']].values\n",
        "y = df_source.customes_class.values"
      ],
      "execution_count": 6,
      "outputs": []
    },
    {
      "cell_type": "markdown",
      "metadata": {
        "id": "EGcbYYxLzNUq"
      },
      "source": [
        "Вычисляем скор baseline модели (по тестовым данным)"
      ]
    },
    {
      "cell_type": "code",
      "metadata": {
        "id": "iM-fSpU1zNUw",
        "outputId": "c0c7d606-c064-4452-d7f2-ae49dec01e16",
        "colab": {
          "base_uri": "https://localhost:8080/"
        }
      },
      "source": [
        "eval_model(X, y)"
      ],
      "execution_count": 7,
      "outputs": [
        {
          "output_type": "stream",
          "name": "stdout",
          "text": [
            "Accuracy: 0.80000\n"
          ]
        }
      ]
    },
    {
      "cell_type": "markdown",
      "metadata": {
        "id": "bWmS26jdzNVJ"
      },
      "source": [
        "Алгоритм выполнения домашней работы:\n",
        "\n",
        "* выполните PCA преобразование матрицы $X$, передайте новую матрицу в `eval_model`. Какое значение Accuracy получили?\n",
        "* выполните t-sne преобразование матрицы $X$, передайте новую матрицу в `eval_model`. Какое значение Accuracy получили?\n",
        "\n",
        "Какие выводы можно сделать?"
      ]
    },
    {
      "cell_type": "code",
      "source": [
        "pca = PCA(n_components=2)\n",
        "X_pca = pca.fit_transform(X)\n",
        "eval_model(X_pca, y)"
      ],
      "metadata": {
        "id": "L3v5xZTF39oV",
        "outputId": "c915be08-7253-4469-e6dc-333c7e221040",
        "colab": {
          "base_uri": "https://localhost:8080/"
        }
      },
      "execution_count": 8,
      "outputs": [
        {
          "output_type": "stream",
          "name": "stdout",
          "text": [
            "Accuracy: 0.83333\n"
          ]
        }
      ]
    },
    {
      "cell_type": "code",
      "source": [
        "tsne = TSNE(n_components=2, random_state=42)\n",
        "X_tsne = tsne.fit_transform(X)\n",
        "eval_model(X_tsne, y)"
      ],
      "metadata": {
        "id": "kVb_i6H_4dQe",
        "outputId": "969e6349-6c77-4da9-fa39-c60c92a8eec9",
        "colab": {
          "base_uri": "https://localhost:8080/"
        }
      },
      "execution_count": 11,
      "outputs": [
        {
          "output_type": "stream",
          "name": "stdout",
          "text": [
            "Accuracy: 0.86667\n"
          ]
        }
      ]
    },
    {
      "cell_type": "markdown",
      "source": [
        "*t-sne дает блоьшую точность, чем PCA*"
      ],
      "metadata": {
        "id": "yEDB3FQB8s1J"
      }
    },
    {
      "cell_type": "markdown",
      "metadata": {
        "id": "i-qWNTVlzNVa"
      },
      "source": [
        "В этом уроке мы познакомились с новым алгоритмом t-SNE. Какие у него есть недостатки?\n",
        "\n",
        "* требует бережной настройки параметров на валидационной выборке (см. документацию - там очень много параметров)\n",
        "* плохо работает, когда данных очень много.\n",
        "\n",
        "На больших объёмах данных (более 10к элементов) следует применять более простые алгоритмы - PCA или SVD."
      ]
    }
  ]
}